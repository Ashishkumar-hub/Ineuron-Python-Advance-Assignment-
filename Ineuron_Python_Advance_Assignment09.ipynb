{
  "nbformat": 4,
  "nbformat_minor": 0,
  "metadata": {
    "colab": {
      "name": "Ineuron_Python_Advance_Assignment09.ipynb",
      "provenance": []
    },
    "kernelspec": {
      "name": "python3",
      "display_name": "Python 3"
    },
    "language_info": {
      "name": "python"
    }
  },
  "cells": [
    {
      "cell_type": "markdown",
      "source": [
        "**Ineuron Python Advance Assignment 09**"
      ],
      "metadata": {
        "id": "jChMYhUrgtvm"
      }
    },
    {
      "cell_type": "markdown",
      "source": [
        "Q1. In Python 3.X, what are the names and functions of string object types?\n",
        "\n",
        "Answer: There are many string functions some of them are mentioned below\n",
        "isascii(), islower(), isdigit(), upper(), lower(), lstrip(). rstrip()\n",
        "\n",
        "basically after definign the string we can use (dot) and them tab in jupyter notebook or ctrl+space in colab to access these we don't need to remember them.\n",
        "\n",
        "I refer this link for help with strings functions https://www.w3schools.com/python/python_ref_string.asp"
      ],
      "metadata": {
        "id": "t29rA0T0gtr-"
      }
    },
    {
      "cell_type": "markdown",
      "source": [
        "\n",
        "Q2. How do the string forms in Python 3.X vary in terms of operations?\n",
        "\n",
        "Answer: The type can be used with format codes just add a % symbol before them :\n",
        "\n",
        "- ‘d’ for integers\n",
        "- ‘f’ for floating-point numbers\n",
        "- ‘b’ for binary numbers\n",
        "- ‘o’ for octal numbers\n",
        "- ‘x’ for octal hexadecimal numbers\n",
        "- ‘s’ for string\n",
        "- ‘e’ for floating-point in an exponent format"
      ],
      "metadata": {
        "id": "dkT2RBajgtpn"
      }
    },
    {
      "cell_type": "markdown",
      "source": [
        "\n",
        "Q3. In 3.X, how do you put non-ASCII Unicode characters in a string?\n",
        "\n",
        "Answer:  In order to use non-ASCII characters, Python requires explicit encoding and decoding of strings into Unicode. we can check using the ascii value using ord()"
      ],
      "metadata": {
        "id": "uutnkNjfgtnQ"
      }
    },
    {
      "cell_type": "code",
      "source": [
        "ord(\"a\")"
      ],
      "metadata": {
        "colab": {
          "base_uri": "https://localhost:8080/"
        },
        "id": "DIiaygR2nRXE",
        "outputId": "6aac96e4-d564-4839-8f2a-d434a6c15138"
      },
      "execution_count": 4,
      "outputs": [
        {
          "output_type": "execute_result",
          "data": {
            "text/plain": [
              "97"
            ]
          },
          "metadata": {},
          "execution_count": 4
        }
      ]
    },
    {
      "cell_type": "code",
      "source": [
        "ord(\"!\")\n",
        "#reference : https://melaniewalsh.github.io/Intro-Cultural-Analytics/02-Python/07-Files-Character-Encoding.html"
      ],
      "metadata": {
        "colab": {
          "base_uri": "https://localhost:8080/"
        },
        "id": "LbnfIr8Pnh6x",
        "outputId": "ec446457-7e5f-4e42-fac4-ffffafbb23a7"
      },
      "execution_count": 6,
      "outputs": [
        {
          "output_type": "execute_result",
          "data": {
            "text/plain": [
              "33"
            ]
          },
          "metadata": {},
          "execution_count": 6
        }
      ]
    },
    {
      "cell_type": "markdown",
      "source": [
        "\n",
        "Q4. In Python 3.X, what are the key differences between text-mode and binary-mode files?\n",
        "\n",
        "Answer: The major difference between these two is that a text file contains textual information in the form of alphabets, digits and special characters or symbols. On the other hand, a binary file contains bytes or a compiled version of a text file.\n",
        "\n"
      ],
      "metadata": {
        "id": "Ut9RdKWKgtjD"
      }
    },
    {
      "cell_type": "markdown",
      "source": [
        "Q5. How can you interpret a Unicode text file containing text encoded in a different encoding than\n",
        "your platform&#39;s default?\n",
        "\n",
        "Answer: we can do it by hit and trieal trying different types of ending like utf-8, utf-16 etc."
      ],
      "metadata": {
        "id": "MUcdvDyEgtfj"
      }
    },
    {
      "cell_type": "markdown",
      "source": [
        "Q6. What is the best way to make a Unicode text file in a particular encoding format?\n"
      ],
      "metadata": {
        "id": "eGc6uw6uhYFa"
      }
    },
    {
      "cell_type": "code",
      "source": [
        "unicode_text = u'ʑʒʓʔʕʗʘʙʚʛʜʝʞ'\n",
        "encoded_unicode = unicode_text.encode(\"utf8\")\n",
        "\n",
        "a_file = open(\"textfile.txt\", \"wb\")\n",
        "a_file.write(encoded_unicode)\n",
        "\n",
        "a_file = open(\"textfile.txt\", \"r\")#r reads contents of a file\n",
        "\n",
        "contents = a_file.read()\n",
        "\n",
        "print(contents)"
      ],
      "metadata": {
        "colab": {
          "base_uri": "https://localhost:8080/"
        },
        "id": "ymf9b4rfmqxn",
        "outputId": "0f8ab726-35f9-45ff-a8f5-50772855c0f9"
      },
      "execution_count": 2,
      "outputs": [
        {
          "output_type": "stream",
          "name": "stdout",
          "text": [
            "ʑʒʓʔʕʗʘʙʚʛʜʝʞ\n"
          ]
        }
      ]
    },
    {
      "cell_type": "markdown",
      "source": [
        "\n",
        "Q7. What qualifies ASCII text as a form of Unicode text?\n",
        "\n",
        "Answer: The first 128 Unicode code points represent the ASCII characters, which means that any ASCII text is also a UTF-8 text. As long as it contains no code points in the reserved range U+D800–U+DFFF, a UCS-2 text is valid UTF-16 text.\n",
        "\n",
        "Encoding formats: UTF-8; UTF-16; GB18030; \n",
        "\n",
        "Standard: Unicode Standard\n",
        "\n",
        "Alias(es): Universal Coded Character Set (UCS)"
      ],
      "metadata": {
        "id": "3EU3YbcVhYB0"
      }
    }
  ]
}