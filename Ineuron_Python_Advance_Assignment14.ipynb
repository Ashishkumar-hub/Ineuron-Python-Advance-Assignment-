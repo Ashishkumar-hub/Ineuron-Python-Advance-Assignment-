{
  "nbformat": 4,
  "nbformat_minor": 0,
  "metadata": {
    "colab": {
      "name": "Ineuron_Python_Advance_Assignment14.ipynb",
      "provenance": []
    },
    "kernelspec": {
      "name": "python3",
      "display_name": "Python 3"
    },
    "language_info": {
      "name": "python"
    }
  },
  "cells": [
    {
      "cell_type": "markdown",
      "source": [
        "**Ineuron Python Advance Assignment 14**"
      ],
      "metadata": {
        "id": "0ZCOcdJQfcv9"
      }
    },
    {
      "cell_type": "markdown",
      "source": [
        "Q1. Is an assignment operator like += only for show? Is it possible that it would lead to faster results\n",
        "at the runtime?\n",
        "Answer: Yes it is inplace adding"
      ],
      "metadata": {
        "id": "s231di9EfhhF"
      }
    },
    {
      "cell_type": "markdown",
      "source": [
        "\n",
        "Q2. What is the smallest number of statements you&#39;d have to write in most programming languages to\n",
        "replace the Python expression a, b = a + b, a?\n",
        "\n",
        "Answer: a = a+b   \n",
        "b = a"
      ],
      "metadata": {
        "id": "fLBsEf8Ufhc2"
      }
    },
    {
      "cell_type": "markdown",
      "source": [
        "\n",
        "Q3. In Python, what is the most effective way to set a list of 100 integers to 0?\n",
        "\n",
        "Answer: list.clear()"
      ],
      "metadata": {
        "id": "ZB2pJ8_LfhZ6"
      }
    },
    {
      "cell_type": "markdown",
      "source": [
        "\n",
        "Q4. What is the most effective way to initialise a list of 99 integers that repeats the sequence 1, 2, 3?\n",
        "S If necessary, show step-by-step instructions on how to accomplish this.\n",
        "\n"
      ],
      "metadata": {
        "id": "VN6abLfhfhXa"
      }
    },
    {
      "cell_type": "code",
      "source": [
        "l = []\n",
        "for i in range(100):\n",
        "  l.append(i)\n",
        "  print(i)"
      ],
      "metadata": {
        "colab": {
          "base_uri": "https://localhost:8080/"
        },
        "id": "Z1u902mhiOBs",
        "outputId": "b53226b2-7bd3-496f-cd8f-31788bf91d37"
      },
      "execution_count": 14,
      "outputs": [
        {
          "output_type": "stream",
          "name": "stdout",
          "text": [
            "0\n",
            "1\n",
            "2\n",
            "3\n",
            "4\n",
            "5\n",
            "6\n",
            "7\n",
            "8\n",
            "9\n",
            "10\n",
            "11\n",
            "12\n",
            "13\n",
            "14\n",
            "15\n",
            "16\n",
            "17\n",
            "18\n",
            "19\n",
            "20\n",
            "21\n",
            "22\n",
            "23\n",
            "24\n",
            "25\n",
            "26\n",
            "27\n",
            "28\n",
            "29\n",
            "30\n",
            "31\n",
            "32\n",
            "33\n",
            "34\n",
            "35\n",
            "36\n",
            "37\n",
            "38\n",
            "39\n",
            "40\n",
            "41\n",
            "42\n",
            "43\n",
            "44\n",
            "45\n",
            "46\n",
            "47\n",
            "48\n",
            "49\n",
            "50\n",
            "51\n",
            "52\n",
            "53\n",
            "54\n",
            "55\n",
            "56\n",
            "57\n",
            "58\n",
            "59\n",
            "60\n",
            "61\n",
            "62\n",
            "63\n",
            "64\n",
            "65\n",
            "66\n",
            "67\n",
            "68\n",
            "69\n",
            "70\n",
            "71\n",
            "72\n",
            "73\n",
            "74\n",
            "75\n",
            "76\n",
            "77\n",
            "78\n",
            "79\n",
            "80\n",
            "81\n",
            "82\n",
            "83\n",
            "84\n",
            "85\n",
            "86\n",
            "87\n",
            "88\n",
            "89\n",
            "90\n",
            "91\n",
            "92\n",
            "93\n",
            "94\n",
            "95\n",
            "96\n",
            "97\n",
            "98\n",
            "99\n"
          ]
        }
      ]
    },
    {
      "cell_type": "markdown",
      "source": [
        "\n",
        "Q5. If you&#39;re using IDLE to run a Python application, explain how to print a multidimensional list as\n",
        "efficiently?\n"
      ],
      "metadata": {
        "id": "z_nF9xoJfhFh"
      }
    },
    {
      "cell_type": "code",
      "source": [
        "m = 4\n",
        "n = 5\n",
        "  \n",
        "a = [[0 for x in range(n)] for x in range(m)]\n",
        "print(a)"
      ],
      "metadata": {
        "colab": {
          "base_uri": "https://localhost:8080/"
        },
        "id": "v-QUHDFCjRPN",
        "outputId": "bd460ca5-c3a4-438c-ba63-6c7ae552be32"
      },
      "execution_count": 15,
      "outputs": [
        {
          "output_type": "stream",
          "name": "stdout",
          "text": [
            "[[0, 0, 0, 0, 0], [0, 0, 0, 0, 0], [0, 0, 0, 0, 0], [0, 0, 0, 0, 0]]\n"
          ]
        }
      ]
    },
    {
      "cell_type": "markdown",
      "source": [
        "\n",
        "Q6. Is it possible to use list comprehension with a string? If so, how can you go about doing it?"
      ],
      "metadata": {
        "id": "UCwLlY3tfhBc"
      }
    },
    {
      "cell_type": "code",
      "source": [
        "h_letters = [ letter for letter in 'ASHISH' ]\n",
        "print( h_letters)"
      ],
      "metadata": {
        "colab": {
          "base_uri": "https://localhost:8080/"
        },
        "id": "CRWAv4vIjkuC",
        "outputId": "52ff110a-5544-4778-dd9f-7dea750ed7ce"
      },
      "execution_count": 17,
      "outputs": [
        {
          "output_type": "stream",
          "name": "stdout",
          "text": [
            "['A', 'S', 'H', 'I', 'S', 'H']\n"
          ]
        }
      ]
    },
    {
      "cell_type": "markdown",
      "source": [
        "\n",
        "\n",
        "Q7. From the command line, how do you get support with a user-written Python programme? Is this\n",
        "possible from inside IDLE?\n",
        "\n",
        "Answeer: we can peform different things like downloading packages cecking python creating environemnt from CLI a terminal window is there in IDLE to do the same."
      ],
      "metadata": {
        "id": "nYQL1CRhfg-y"
      }
    },
    {
      "cell_type": "markdown",
      "source": [
        "\n",
        "Q8. Functions are said to be “first-class objects” in Python but not in most other languages, such as\n",
        "C++ or Java. What can you do in Python with a function (callable object) that you can&#39;t do in C or\n",
        "C++?\n",
        "\n",
        "Answer: functions behave like any other object, such as an int or a list. That means that you can use functions as arguments to other functions, store functions as dictionary values, or return a function from another function. This leads to many powerful ways to use functions."
      ],
      "metadata": {
        "id": "oZlTLwilfg8b"
      }
    },
    {
      "cell_type": "markdown",
      "source": [
        "\n",
        "Q9. How do you distinguish between a wrapper, a wrapped feature, and a decorator?\n",
        "\n",
        "Answer: Decorators allow us to wrap another function in order to extend the behavior of the wrapped function, without permanently modifying it. In Decorators, functions are taken as the argument into another function and then called inside the wrapper function. \n",
        "\n",
        "@wrapper\n",
        "\n",
        "def function(n):\n",
        "\n",
        "    statements(s)\n",
        "\n",
        "similar to \n",
        "\n",
        "def function(n):\n",
        "\n",
        "    statement(s)\n",
        "\n",
        "function = wrapper(function)"
      ],
      "metadata": {
        "id": "aaPWvQrofvht"
      }
    },
    {
      "cell_type": "markdown",
      "source": [
        "\n",
        "Q10. If a function is a generator function, what does it return?\n",
        "\n",
        "Answer: A generator is a special type of function which does not return a single value, instead, it returns an iterator object with a sequence of values. In a generator function, a yield statement is used rather than a return statement."
      ],
      "metadata": {
        "id": "HBNGKDK2fwfW"
      }
    },
    {
      "cell_type": "markdown",
      "source": [
        "\n",
        "Q11. What is the one improvement that must be made to a function in order for it to become a\n",
        "generator function in the Python language?\n",
        "\n",
        "Answer: yield keyword"
      ],
      "metadata": {
        "id": "ajWb-CEAfwK7"
      }
    },
    {
      "cell_type": "markdown",
      "source": [
        "Q12. Identify at least one benefit of generators.\n",
        "\n",
        "Answer: Generator functions allow you to declare a function that behaves like an iterator. They allow programmers to make an iterator in a fast, easy, and clean way."
      ],
      "metadata": {
        "id": "DG4_T0Q9f0Mw"
      }
    }
  ]
}