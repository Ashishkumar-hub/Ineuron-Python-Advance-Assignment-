{
  "nbformat": 4,
  "nbformat_minor": 0,
  "metadata": {
    "colab": {
      "name": "Ineuron_Python_Advance_Assignment24.ipynb",
      "provenance": []
    },
    "kernelspec": {
      "name": "python3",
      "display_name": "Python 3"
    },
    "language_info": {
      "name": "python"
    }
  },
  "cells": [
    {
      "cell_type": "markdown",
      "source": [
        "**Ineuron Python Advance Assignment 24**"
      ],
      "metadata": {
        "id": "bS8sTxuTG3Se"
      }
    },
    {
      "cell_type": "markdown",
      "source": [
        "Q1. Is it permissible to use several import statements to import the same module? What would the\n",
        "goal be? Can you think of a situation where it would be beneficial?\n",
        "\n",
        "Answer: If a module has already been imported, it's not loaded again. we will simply get a reference to the module that has already been imported."
      ],
      "metadata": {
        "id": "5La8W7JsG3Or"
      }
    },
    {
      "cell_type": "markdown",
      "source": [
        "\n",
        "Q2. What are some of a module&#39;s characteristics? (Name at least one.)\n",
        "\n",
        "Answer: Characteristics of Modules\n",
        "\n",
        "- Modules contain instructions, processing logic, and data.\n",
        "- Modules can be separately compiled and stored in a library.\n",
        "- Modules can be included in a program.\n",
        "- Module segments can be used by invoking a name and some parameters.\n",
        "- Module segments can be used by other modules."
      ],
      "metadata": {
        "id": "_xKUHE8lG3Kw"
      }
    },
    {
      "cell_type": "markdown",
      "source": [
        "\n",
        "Q3. Circular importing, such as when two modules import each other, can lead to dependencies and bugs that aren&#39;t visible. How can you go about creating a program that avoids mutual importing?\n",
        "\n",
        "Answer: Circular importing is a form of circular dependency that is created with the import statement in Python.\n",
        "\n",
        "ircular imports are the result of bad designs. A deeper analysis of the program could have concluded that the dependency isn't actually required, or that the depended functionality can be moved to different modules that wouldn't contain the circular reference.\n",
        "\n",
        "A simple solution is that sometimes both modules can just be merged into a single, larger module. "
      ],
      "metadata": {
        "id": "fe5aipRAG3Ia"
      }
    },
    {
      "cell_type": "markdown",
      "source": [
        "\n",
        "Q4. Why is _ _all_ _ in Python?\n",
        "\n",
        "Answer: The __all__ tells the semantically “public” names from the module. If there is a name in __all__, the users are expected to use it, and they can expect that it will not change. By default, Python will export all names that do not start with an _. we certainly could rely on this mechanism."
      ],
      "metadata": {
        "id": "kFvXy1aiG3GU"
      }
    },
    {
      "cell_type": "markdown",
      "source": [
        "\n",
        "Q5. In what situation is it useful to refer to the _ _name_ _ attribute or the string &#39;_ _main_ _&#39;?\n",
        "\n",
        "Answer: __name__ is a built-in variable which evaluates to the name of the current module. Thus it can be used to check whether the current script is being run on its own or being imported somewhere else by combining it with if statement"
      ],
      "metadata": {
        "id": "ps8bAffPG3Ee"
      }
    },
    {
      "cell_type": "markdown",
      "source": [
        "\n",
        "Q6. What are some of the benefits of attaching a program counter to the RPN interpreter\n",
        "application, which interprets an RPN script line by line?\n",
        "\n",
        "Answer: An advantage of reverse Polish notation is that it removes the need for parentheses that are required by infix notation. While 3 − 4 × 5 can also be written 3 − (4 × 5), that means something quite different from (3 − 4) × 5. A program counter is also known as an instruction counter, instruction pointer, instruction address register or sequence control register. It is a digital counter needed for faster execution of tasks as well as for tracking the current execution point"
      ],
      "metadata": {
        "id": "ADhl59mrJADN"
      }
    },
    {
      "cell_type": "markdown",
      "source": [
        "\n",
        "Q7. What are the minimum expressions or statements (or both) that you&#39;d need to render a basic programming language like RPN primitive but complete— that is, capable of carrying out any computerised task theoretically possible?\n",
        "\n",
        "Answer: "
      ],
      "metadata": {
        "id": "z38E2PRSJAAQ"
      }
    },
    {
      "cell_type": "code",
      "source": [
        "# Reverse Polish Notation (RPN) Evaluator in Python\n",
        "import logging\n",
        "import operator as op\n",
        "import sys\n",
        "from typing import Any, List, Union\n",
        "\n",
        "logging.getLogger(__name__).setLevel(\"INFO\")\n",
        "supported_operators = {\"+\": op.add, \"-\": op.sub, \"*\": op.mul, \"/\": op.truediv}\n",
        "Number = Union[int, float]\n",
        "\n",
        "def tokenize(expr: str) -> List[str]:\n",
        "    \"\"\"Breaks expression `expr` into a list of tokens\"\"\"\n",
        "    return expr.split(\" \")\n",
        "\n",
        "def mpop(stack: List[Any], n: int = 1) -> List[Any]:\n",
        "    \"\"\"Pops and returns `n` items from a stack. Mutates `stack`\"\"\"\n",
        "    return [stack.pop() for _ in range(n)]\n",
        "\n",
        "def to_num(x: Any) -> Number:\n",
        "    \"\"\"Converts a value to a its appropriate numeric type\"\"\"\n",
        "    n = float(x)\n",
        "    return int(n) if n.is_integer() else n\n",
        "\n",
        "def consume_token(token: str, stack: List[Number]) -> List[Number]:\n",
        "    \"\"\"Consumes a token given the current stack and returns the updated stack\"\"\"\n",
        "    if token in supported_operators:\n",
        "        try:\n",
        "            num1, num2 = mpop(stack, 2)\n",
        "        except IndexError:\n",
        "            logging.error(\"SyntaxError: Malformed expression\")\n",
        "            sys.exit(1)\n",
        "\n",
        "        result = supported_operators[token](num2, num1)\n",
        "        return [*stack, result]\n",
        "    else:\n",
        "        try:\n",
        "            return [*stack, to_num(token)]\n",
        "        except ValueError:\n",
        "            logging.error(\"SyntaxError: Unsupported token '%s'\", token)\n",
        "            sys.exit(1)\n",
        "\n",
        "def get_result_from_stack(stack: List[Number]) -> Number:\n",
        "    \"\"\"Gets the result from `stack`\"\"\"\n",
        "    result, *rest = mpop(stack, 1)\n",
        "    if rest:\n",
        "        logging.error(\"SyntaxError: Found extra tokens\")\n",
        "        sys.exit(1)\n",
        "    return result\n",
        "\n",
        "def evaluate_v1(tokens: List[str]) -> Number:\n",
        "    \"\"\"Evaluates a tokenized expression and returns the result\"\"\"\n",
        "    stack: List = []\n",
        "\n",
        "    for token in tokens:\n",
        "        stack = consume_token(token, stack)\n",
        "\n",
        "    return get_result_from_stack(stack)\n",
        "\n",
        "def evaluate_v2(tokens: List[str]) -> Number:\n",
        "    \"\"\"Evaluates a tokenized expression and returns the result\"\"\"\n",
        "\n",
        "    def _evaluate(tokens: List[str], stack: List) -> Number:\n",
        "        if not tokens:\n",
        "            return get_result_from_stack(stack)\n",
        "\n",
        "        stack = consume_token(tokens[0], stack)\n",
        "\n",
        "        return _evaluate(tokens[1:], stack)\n",
        "\n",
        "    return _evaluate(tokens, [])\n",
        "\n",
        "if __name__ == \"__main__\":\n",
        "    \n",
        "    print(evaluate_v2(tokenize(input())))"
      ],
      "metadata": {
        "colab": {
          "base_uri": "https://localhost:8080/"
        },
        "id": "8IGWIzaMRGCD",
        "outputId": "981c8662-9d22-45ad-ba4a-25032614f433"
      },
      "execution_count": 2,
      "outputs": [
        {
          "output_type": "stream",
          "name": "stdout",
          "text": [
            "1 2 /\n",
            "0.5\n"
          ]
        }
      ]
    }
  ]
}