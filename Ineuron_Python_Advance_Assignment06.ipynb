{
  "nbformat": 4,
  "nbformat_minor": 0,
  "metadata": {
    "colab": {
      "name": "Ineuron_Python_Advance_Assignment6.ipynb",
      "provenance": []
    },
    "kernelspec": {
      "name": "python3",
      "display_name": "Python 3"
    },
    "language_info": {
      "name": "python"
    }
  },
  "cells": [
    {
      "cell_type": "markdown",
      "source": [
        "**Ineuron Python Advance Assignment 6**"
      ],
      "metadata": {
        "id": "e3If97sZRSMK"
      }
    },
    {
      "cell_type": "markdown",
      "source": [
        "Q1. Describe three applications for exception processing.\n",
        "\n",
        "Answer: Python provides the number of built-in exceptions, but here we are describing the common standard exceptions. A list of common exceptions that can be thrown from a standard Python program is given below.\n",
        "\n",
        "- ZeroDivisionError: Occurs when a number is divided by zero.\n",
        "- NameError: It occurs when a name is not found. It may be local or global.\n",
        "- IndentationError: If incorrect indentation is given.\n",
        "- IOError: It occurs when Input Output operation fails.\n",
        "- EOFError: It occurs when the end of the file is reached, and yet operations are being performed.\n",
        "\n",
        "Example:"
      ],
      "metadata": {
        "id": "vo-_qKlSRR-f"
      }
    },
    {
      "cell_type": "code",
      "source": [
        "#we can alwaws put our code in try expect blocks to handle exceptions\n",
        "try:    \n",
        "    a = int(input(\"Enter a:\"))    \n",
        "    b = int(input(\"Enter b:\"))    \n",
        "    c = a/b  \n",
        "    print(\"a/b = %d\",c)    \n",
        "    # Using exception object with the except statement  \n",
        "except Exception as e:  #general statement to handle different exceptions   \n",
        "    print(\"can't divide by zero\")    \n",
        "    print(e)  \n",
        "else:    \n",
        "    print(\"Hi I am else block\") \n",
        "finally:\n",
        "    print(\"Hi I am finally block\")    "
      ],
      "metadata": {
        "colab": {
          "base_uri": "https://localhost:8080/"
        },
        "id": "t3-Qst9hSbWd",
        "outputId": "42747c10-957c-4615-c2f2-f173cd7ed365"
      },
      "execution_count": 3,
      "outputs": [
        {
          "output_type": "stream",
          "name": "stdout",
          "text": [
            "Enter a:4\n",
            "Enter b:0\n",
            "can't divide by zero\n",
            "division by zero\n",
            "Hi I am finally block\n"
          ]
        }
      ]
    },
    {
      "cell_type": "markdown",
      "source": [
        "\n",
        "Q2. What happens if you don&#39;t do something extra to treat an exception?\n",
        "\n",
        "Answer: When an exception occurred, if you don't handle it, the program terminates abruptly and the code past the line that caused the exception will not get executed. Because of not handling exceptions while deployment of end products users can face issues at their end while using the product."
      ],
      "metadata": {
        "id": "9RLskmAgRR7M"
      }
    },
    {
      "cell_type": "markdown",
      "source": [
        "\n",
        "Q3. What are your options for recovering from an exception in your script?\n",
        "\n",
        "Answer: Exception handling and logging the exceptions are basic ideas that a programmer should follow. Also writing the code in modular fashion helps in easily fidong the errors in end products and logging make it easier for deelopers to resolve the issue at their end."
      ],
      "metadata": {
        "id": "-Q34n5fHRR4Y"
      }
    },
    {
      "cell_type": "markdown",
      "source": [
        "\n",
        "Q4. Describe two methods for triggering exceptions in your script.\n",
        "\n",
        "Answer: An unhandled exception displays an error message and the program suddenly crashes. To avoid such a scenario, there are two methods to handle Python exceptions:\n",
        "\n",
        "Try – This method catches the exceptions raised by the program\n",
        "\n",
        "Raise – Triggers an exception manually using custom exceptions"
      ],
      "metadata": {
        "id": "F1ZhXkyFRR1k"
      }
    },
    {
      "cell_type": "markdown",
      "source": [
        "\n",
        "Q5. Identify two methods for specifying actions to be executed at termination time, regardless of\n",
        "whether or not an exception exists.\n",
        "\n",
        "Answe: These methods are **finally** and **else** a simple expmple using them is shown above. "
      ],
      "metadata": {
        "id": "DLQPioNHRRzp"
      }
    }
  ]
}
