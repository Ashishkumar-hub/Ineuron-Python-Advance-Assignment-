{
  "nbformat": 4,
  "nbformat_minor": 0,
  "metadata": {
    "colab": {
      "name": "Ineuron_Python_Advance_Assignment7.ipynb",
      "provenance": []
    },
    "kernelspec": {
      "name": "python3",
      "display_name": "Python 3"
    },
    "language_info": {
      "name": "python"
    }
  },
  "cells": [
    {
      "cell_type": "markdown",
      "source": [
        "**Ineuron Python Advance Assignment 7**"
      ],
      "metadata": {
        "id": "ws6n6_U-V6KX"
      }
    },
    {
      "cell_type": "markdown",
      "source": [
        "Q1. What is the purpose of the try statement?\n",
        "\n",
        "Answer: The try statement allows a programmer to define a block of code to be tested for errors while it is being executed. The catch statement allows you to define a block of code to be executed, if an error occurs in the try block."
      ],
      "metadata": {
        "id": "OWAVmhQ_V6Ha"
      }
    },
    {
      "cell_type": "markdown",
      "source": [
        "\n",
        "Q2. What are the two most popular try statement variations?\n",
        "\n",
        "Answer: \n",
        "\n",
        "**Variation 1:** \n",
        "\n",
        "try:\n",
        "    # Some Code\n",
        "except:\n",
        "    # Executed if error in the\n",
        "    # try block\n",
        "\n",
        "**Variation 2: **\n",
        "\n",
        "try:\n",
        "    # Some Code\n",
        "except:\n",
        "    # Executed if error in the\n",
        "    # try block\n",
        "else:\n",
        "    # execute if no exception\n",
        "\n",
        "**Variation 3:**\n",
        "\n",
        "try:\n",
        "    # Some Code\n",
        "except:\n",
        "    # Executed if error in the\n",
        "    # try block\n",
        "else:\n",
        "    # execute if no exception\n",
        "finally:\n",
        "    # Some code .....(always executed)"
      ],
      "metadata": {
        "id": "U9Ac3faBV5py"
      }
    },
    {
      "cell_type": "markdown",
      "source": [
        "\n",
        "Q3. What is the purpose of the raise statement?\n",
        "Answer: The raise keyword is used to raise an exception.\n",
        "We can define what kind of error to raise, and the text to print to the user.\n"
      ],
      "metadata": {
        "id": "_O8NHE4rV5l_"
      }
    },
    {
      "cell_type": "code",
      "source": [
        "#raising an exception \n",
        "input = input(\"Enter the input:\")\n",
        "if not type(input) is int:\n",
        "  raise TypeError(\"Only integers are allowed\") #exception will be thrown"
      ],
      "metadata": {
        "colab": {
          "base_uri": "https://localhost:8080/",
          "height": 217
        },
        "id": "DTkpXbIoXQgl",
        "outputId": "c1049395-eef0-405d-f5ba-21a369b5fce6"
      },
      "execution_count": 1,
      "outputs": [
        {
          "name": "stdout",
          "output_type": "stream",
          "text": [
            "Enter the input:ashish\n"
          ]
        },
        {
          "output_type": "error",
          "ename": "TypeError",
          "evalue": "ignored",
          "traceback": [
            "\u001b[0;31m---------------------------------------------------------------------------\u001b[0m",
            "\u001b[0;31mTypeError\u001b[0m                                 Traceback (most recent call last)",
            "\u001b[0;32m<ipython-input-1-a183c2dbaa1b>\u001b[0m in \u001b[0;36m<module>\u001b[0;34m()\u001b[0m\n\u001b[1;32m      1\u001b[0m \u001b[0minput\u001b[0m \u001b[0;34m=\u001b[0m \u001b[0minput\u001b[0m\u001b[0;34m(\u001b[0m\u001b[0;34m\"Enter the input:\"\u001b[0m\u001b[0;34m)\u001b[0m\u001b[0;34m\u001b[0m\u001b[0;34m\u001b[0m\u001b[0m\n\u001b[1;32m      2\u001b[0m \u001b[0;32mif\u001b[0m \u001b[0;32mnot\u001b[0m \u001b[0mtype\u001b[0m\u001b[0;34m(\u001b[0m\u001b[0minput\u001b[0m\u001b[0;34m)\u001b[0m \u001b[0;32mis\u001b[0m \u001b[0mint\u001b[0m\u001b[0;34m:\u001b[0m\u001b[0;34m\u001b[0m\u001b[0;34m\u001b[0m\u001b[0m\n\u001b[0;32m----> 3\u001b[0;31m   \u001b[0;32mraise\u001b[0m \u001b[0mTypeError\u001b[0m\u001b[0;34m(\u001b[0m\u001b[0;34m\"Only integers are allowed\"\u001b[0m\u001b[0;34m)\u001b[0m\u001b[0;34m\u001b[0m\u001b[0;34m\u001b[0m\u001b[0m\n\u001b[0m",
            "\u001b[0;31mTypeError\u001b[0m: Only integers are allowed"
          ]
        }
      ]
    },
    {
      "cell_type": "markdown",
      "source": [
        "\n",
        "Q4. What does the assert statement do, and what other statement is it like?\n",
        "\n",
        "Answer:  An assert statement checks whether a condition is true. If a condition evaluates to True, a program will keep running. If a condition is false, the program will return an AssertionError. At this point, the program will stop executing. Assertion is like raise statement.\n"
      ],
      "metadata": {
        "id": "O-hlk_8UV5jy"
      }
    },
    {
      "cell_type": "markdown",
      "source": [
        "\n",
        "Q5. What is the purpose of the with/as argument, and what other statement is it like?\n",
        "\n",
        "Answer: The with statement in Python is used for resource management and exception handling. We use it while working with file streams. For example, the statement ensures that the file stream process doesn't block other processes if an exception is raised, but terminates properly.\n",
        "We can use a try statement or block it is somewhat similar to with. \n"
      ],
      "metadata": {
        "id": "tIcQXnCcV5hv"
      }
    }
  ]
}
