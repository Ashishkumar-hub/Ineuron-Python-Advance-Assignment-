{
  "nbformat": 4,
  "nbformat_minor": 0,
  "metadata": {
    "colab": {
      "name": "Ineuron_Python_Advance_Assignment18.ipynb",
      "provenance": []
    },
    "kernelspec": {
      "name": "python3",
      "display_name": "Python 3"
    },
    "language_info": {
      "name": "python"
    }
  },
  "cells": [
    {
      "cell_type": "markdown",
      "source": [
        "**Ineuron Python Advance Assignment 18**"
      ],
      "metadata": {
        "id": "JP8NfKWdWkeW"
      }
    },
    {
      "cell_type": "markdown",
      "source": [
        "Q1. Describe the differences between text and binary files in a single paragraph.\n",
        "\n",
        "Answer: Binary file contains the data in the form of 0 and 1(series of binary values) and text files contains the data in the form of stream of characters.In general binary files are identified as executable files. But binary files are not in readable form as like text file."
      ],
      "metadata": {
        "id": "4VYYjAeIWka2"
      }
    },
    {
      "cell_type": "markdown",
      "source": [
        "\n",
        "Q2. What are some scenarios where using text files will be the better option? When would you like to\n",
        "use binary files instead of text files?\n",
        "\n",
        "Answer: text files are commonly used for storage of information. They avoid some of the problems encountered with other file formats, such as endianness, padding bytes, or differences in the number of bytes in a machine word.\n",
        "\n",
        "Binary files are used to store data more compactly. In the text file, a special character whose ASCII value is 26 inserted after the last character to mark the end of file. In the binary file no such character is present. Files keep track of the end of the file from the number of characters present."
      ],
      "metadata": {
        "id": "TQegc9g1WkZS"
      }
    },
    {
      "cell_type": "markdown",
      "source": [
        "\n",
        "Q3. What are some of the issues with using binary operations to read and write a Python integer\n",
        "directly to disc?\n",
        "\n",
        "Answer: its acutally easy to read a write abinary file with rb and wb mode Alternatively we can use open() and close() can be called explicitly. However, this method requires us to perform error handling ourself, that is, ensure that the file is always closed, even if there is an error during writing. So, using the “with” statement is better in this regard as it will automatically close the file when the block ends."
      ],
      "metadata": {
        "id": "uN6TUZ_dWkSv"
      }
    },
    {
      "cell_type": "markdown",
      "source": [
        "\n",
        "Q4. Describe a benefit of using the with keyword instead of explicitly opening a file.\n",
        "\n",
        "Answer: The with statement itself ensures proper acquisition and release of resources. An exception during the file."
      ],
      "metadata": {
        "id": "bJi1fJWWWkPW"
      }
    },
    {
      "cell_type": "markdown",
      "source": [
        "\n",
        "Q5. Does Python have the trailing newline while reading a line of text? Does Python append a\n",
        "newline when you write a line of text?\n",
        "\n",
        "Answer: Python readline() is a file method that helps to read one complete line from the given file. It has a trailing newline (“\\n”) at the end of the string returned.\n",
        "for the second part python uses a backslash escape, \\n , which Python converts to a newline character in string literals. It just concatenates your string, name , and that newline character into a bigger string, which gets written to the file."
      ],
      "metadata": {
        "id": "XTL7siHsWj-f"
      }
    },
    {
      "cell_type": "markdown",
      "source": [
        "\n",
        "Q6. What file operations enable for random-access operation?\n",
        "\n",
        "Answer: wecan set offsets in file But if we want to access data in a random fashion, then Python gives us seek() and tell() functions to do so."
      ],
      "metadata": {
        "id": "fYesjXQuW0bl"
      }
    },
    {
      "cell_type": "markdown",
      "source": [
        "\n",
        "Q7. When do you think you&#39;ll use the struct package the most?\n",
        "\n",
        "Answer: The struct module in Python is used to convert native Python data types such as strings and numbers into a string of bytes and vice versa. What this means is that users can parse binary files of data stored in C structs in Python.\n",
        "\n",
        "It is used mostly for handling binary data stored in files or from network connections, among other sources."
      ],
      "metadata": {
        "id": "XocrIMr6W0YI"
      }
    },
    {
      "cell_type": "markdown",
      "source": [
        "\n",
        "Q8. When is pickling the best option?\n",
        "\n",
        "Answer: The Python pickle module is a better choice for all the remaining use cases. If we don't need a human-readable format or a standard interoperable format, or if we need to serialize custom objects, then go with pickle .\n"
      ],
      "metadata": {
        "id": "Clh8UvpqW0Vc"
      }
    },
    {
      "cell_type": "markdown",
      "source": [
        "\n",
        "Q9. When will it be best to use the shelve package?\n",
        "\n",
        "Answer: The shelve module implements persistent storage for arbitrary Python objects which can be pickled, using a dictionary-like API. The shelve module can be used as a simple persistent storage option for Python objects when a relational database is overkill."
      ],
      "metadata": {
        "id": "HK5JXUhCW0Ti"
      }
    },
    {
      "cell_type": "markdown",
      "source": [
        "\n",
        "Q10. What is a special restriction when using the shelve package, as opposed to using other data\n",
        "dictionaries?\n",
        "\n",
        "Answer: The shelf dictionary has certain restrictions. Only string data type can be used as key in this special dictionary object, whereas any picklable Python object can be used as value."
      ],
      "metadata": {
        "id": "RPuQZf91W0Rw"
      }
    }
  ]
}