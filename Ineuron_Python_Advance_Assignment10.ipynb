{
  "nbformat": 4,
  "nbformat_minor": 0,
  "metadata": {
    "colab": {
      "name": "Ineuron_Python_Advance_Assignment10.ipynb",
      "provenance": []
    },
    "kernelspec": {
      "name": "python3",
      "display_name": "Python 3"
    },
    "language_info": {
      "name": "python"
    }
  },
  "cells": [
    {
      "cell_type": "markdown",
      "source": [
        "**Ineuron Python Advance Assignment 10**"
      ],
      "metadata": {
        "id": "8RbjX2jYozzT"
      }
    },
    {
      "cell_type": "markdown",
      "source": [
        "Q1. What is the difference between __getattr__ and __getattribute__?\n",
        "\n",
        "Answer: __getattribute__: Is used to retrieve an attribute from an instance. __getattr__: Is executed as the last resource when attribute is not found in an object.\n"
      ],
      "metadata": {
        "id": "87uqJWyuozLk"
      }
    },
    {
      "cell_type": "markdown",
      "source": [
        "\n",
        "Q2. What is the difference between properties and descriptors?\n",
        "\n",
        "Answer: Descriptors are a low-level mechanism that lets us hook into an object's attributes being accessed. Properties are a high-level application of this. that is, properties are implemented using descriptors.\n"
      ],
      "metadata": {
        "id": "xv5F7bvUozIi"
      }
    },
    {
      "cell_type": "markdown",
      "source": [
        "\n",
        "Q3. What are the key differences in functionality between __getattr__ and __getattribute__, as well as\n",
        "properties and descriptors?\n",
        "\n",
        "Answer: A key difference between __getattr__ and __getattribute__ is that __getattr__ is only invoked if the attribute wasn't found the usual ways. It's good for implementing a fallback for missing attributes and is probably the one of two you want."
      ],
      "metadata": {
        "id": "LEXFXx61ozGR"
      }
    }
  ]
}