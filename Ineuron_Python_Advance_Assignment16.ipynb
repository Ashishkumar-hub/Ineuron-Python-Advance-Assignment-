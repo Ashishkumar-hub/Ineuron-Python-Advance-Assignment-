{
  "nbformat": 4,
  "nbformat_minor": 0,
  "metadata": {
    "colab": {
      "name": "Ineuron_Python_Advance_Assignment16.ipynb",
      "provenance": []
    },
    "kernelspec": {
      "name": "python3",
      "display_name": "Python 3"
    },
    "language_info": {
      "name": "python"
    }
  },
  "cells": [
    {
      "cell_type": "markdown",
      "source": [
        "**Ineuron Python Advance Assignment 16**"
      ],
      "metadata": {
        "id": "esygimhGIPcE"
      }
    },
    {
      "cell_type": "markdown",
      "source": [
        "Q1. What is the benefit of regular expressions?\n",
        "\n",
        "Answer: A regular expression is a special sequence of characters that helps us to match or find other strings or sets of strings, using a specialized syntax held in a pattern. Regular expressions are widely used in UNIX world.\n",
        "The Python module re provides full support for Perl-like regular expressions in Python. The re module raises the exception re.error if an error occurs while compiling or using a regular expression."
      ],
      "metadata": {
        "id": "aq4Ixu6OIPYK"
      }
    },
    {
      "cell_type": "markdown",
      "source": [
        "\n",
        "Q2. Describe the difference between the effects of &quot;(ab)c+&quot; and &quot;a(bc)+.&quot; Which of these, if any, is the\n",
        "unqualified pattern &quot;abc+&quot;?\n",
        "\n",
        "Answer: the result of both of them will be basically computed using the BOADMAS rule according to mathematics so results will be different in both case. taking in terms of regular espressions it causes the resulting RE to match 1 or more repetitions of the preceding RE. (ab)c+ will match ‘ab’ followed by any non-zero number of ‘c’s; it will not match just ‘ab’. similarly for a(bc)+ it will match ‘a’ followed by any non-zero number of ‘bc’s; it will not match just ‘a’."
      ],
      "metadata": {
        "id": "feg05qvYIPWB"
      }
    },
    {
      "cell_type": "markdown",
      "source": [
        "\n",
        "Q3. How much do you need to use the following sentence while using regular expressions?\n",
        "\n",
        "import re\n",
        "\n",
        "Answer: it's a basic import statement to use regular expressions in python "
      ],
      "metadata": {
        "id": "3TC0GUUIIPTT"
      }
    },
    {
      "cell_type": "markdown",
      "source": [
        "\n",
        "Q4. Which characters have special significance in square brackets when expressing a range, and\n",
        "under what circumstances?\n",
        "\n",
        "Answer: Square brackets ([ ]) designate a character class and match a single character in the string. Inside a character class, only the character class metacharacters (backslash, circumflex anchor and hyphen) have special meaning.\n",
        "\n",
        "we must use a backslash when we use character class metacharacters as literals inside a character class only. Square brackets that are used as literals must always be escaped with backslash, both inside and outside a character class.\n",
        "\n"
      ],
      "metadata": {
        "id": "Kbjurx_eIPQX"
      }
    },
    {
      "cell_type": "code",
      "source": [
        "# For example, [[abc] should be written: [\\[abc]"
      ],
      "metadata": {
        "id": "JLJVqEeIMy8-"
      },
      "execution_count": null,
      "outputs": []
    },
    {
      "cell_type": "markdown",
      "source": [
        "\n",
        "Q5. How does compiling a regular-expression object benefit you?\n",
        "\n",
        "Answer: We can combine a regular expression pattern into pattern objects, which can be used for pattern matching. It also helps to search a pattern again without rewriting it."
      ],
      "metadata": {
        "id": "Znmyw3ECIPNR"
      }
    },
    {
      "cell_type": "markdown",
      "source": [
        "\n",
        "Q6. What are some examples of how to use the match object returned by re.match and re.search?\n",
        "\n",
        "Answer: "
      ],
      "metadata": {
        "id": "0mFvvUPzIPLo"
      }
    },
    {
      "cell_type": "code",
      "source": [
        "# import re module\n",
        "import re\n",
        "Substring ='string'\n",
        "String1 ='''We are learning regex with geeksforgeeks\n",
        "\t\tregex is very useful for string matching.\n",
        "\t\tIt is fast too.'''\n",
        "String2 ='''string We are learning regex with geeksforgeeks\n",
        "\t\tregex is very useful for string matching.\n",
        "\t\tIt is fast too.'''\n",
        "# Use of re.search() Method\n",
        "print(re.search(Substring, String1, re.IGNORECASE))\n",
        "# Use of re.match() Method\n",
        "print(re.match(Substring, String1, re.IGNORECASE))\n",
        "# Use of re.search() Method\n",
        "print(re.search(Substring, String2, re.IGNORECASE))\n",
        "# Use of re.match() Method\n",
        "print(re.match(Substring, String2, re.IGNORECASE))\n"
      ],
      "metadata": {
        "colab": {
          "base_uri": "https://localhost:8080/"
        },
        "id": "k6CH6lxLNSic",
        "outputId": "d7e46f10-df11-488e-9304-71b784c7d73e"
      },
      "execution_count": 1,
      "outputs": [
        {
          "output_type": "stream",
          "name": "stdout",
          "text": [
            "<re.Match object; span=(68, 74), match='string'>\n",
            "None\n",
            "<re.Match object; span=(0, 6), match='string'>\n",
            "<re.Match object; span=(0, 6), match='string'>\n"
          ]
        }
      ]
    },
    {
      "cell_type": "markdown",
      "source": [
        "re.search() is returning match object and implies that first match found at index 69.\n",
        "\n",
        "re.match() is returning none because match exists in the second line of the string and re.match() only works if the match is found at the beginning of the string. \n",
        "\n",
        "re.IGNORECASE is used to ignore the case sensitivity in the strings. \n",
        "\n",
        "Both re.search() and re.match() returns only the first occurrence of a substring in the string and ignore others. "
      ],
      "metadata": {
        "id": "mRX1N6aENcKY"
      }
    },
    {
      "cell_type": "markdown",
      "source": [
        "\n",
        "Q7. What is the difference between using a vertical bar (|) as an alteration and using square brackets\n",
        "as a character set?\n",
        "\n",
        "Answer: The vertical bar is a regex \"or\" means \"a or b\"\n",
        "\n",
        "Square brackets are a character class meaning \"any character from a or b.\n",
        "\n",
        "Character class is a shorthand for \"or\". From this explanation\n",
        "\n",
        "If we want to match an a or an e use [ae]\n",
        "\n",
        "A character class matches only a single character.\n",
        "\n",
        "we can also use hyphen to specify a range such as [0-9] or [a-e]"
      ],
      "metadata": {
        "id": "15vUX6J1Il_i"
      }
    },
    {
      "cell_type": "markdown",
      "source": [
        "\n",
        "Q8. In regular-expression search patterns, why is it necessary to use the raw-string indicator (r)? In replacement strings?\n",
        "\n",
        "Answer: \"Regular expressions use the backslash character ('\\') to indicate special forms or to allow special characters to be used without invoking their special meaning. This collides with Python’s usage of the same character for the same purpose in string literals\"\n",
        "\n",
        "If we want a Python regular expression object which matches a newline character, then we need a 2-character string, consisting of the backslash character followed by the n character. The following lines of code all set prog to a regular expression object which recognises a newline character:\n",
        "\n",
        "prog = re.compile(\"\\\\n\")\n",
        "\n",
        "prog = re.compile(r\"\\n\")"
      ],
      "metadata": {
        "id": "vi-fLr9rIl0o"
      }
    }
  ]
}