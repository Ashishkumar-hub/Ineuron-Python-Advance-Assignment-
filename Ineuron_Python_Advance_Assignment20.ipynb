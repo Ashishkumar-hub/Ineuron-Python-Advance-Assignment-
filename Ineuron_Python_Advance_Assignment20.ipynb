{
  "nbformat": 4,
  "nbformat_minor": 0,
  "metadata": {
    "colab": {
      "name": "Ineuron_Python_Advance_Assignment20.ipynb",
      "provenance": []
    },
    "kernelspec": {
      "name": "python3",
      "display_name": "Python 3"
    },
    "language_info": {
      "name": "python"
    }
  },
  "cells": [
    {
      "cell_type": "markdown",
      "source": [
        "**Ineuron Python Advance Assignment 20**"
      ],
      "metadata": {
        "id": "xBCP_B1Mrp1G"
      }
    },
    {
      "cell_type": "markdown",
      "source": [
        "Q1. Compare and contrast the float and Decimal classes&#39; benefits and drawbacks.\n",
        "\n",
        "Answer: Float stores an approximate value and decimal stores an exact value. In summary, exact values like money should use decimal, and approximate values like scientific measurements should use float. When multiplying a non integer and dividing by that same number, decimals lose precision while floats do not."
      ],
      "metadata": {
        "id": "OgD0ghGKrpxf"
      }
    },
    {
      "cell_type": "markdown",
      "source": [
        "\n",
        "Q2. Decimal(&#39;1.200&#39;) and Decimal(&#39;1.2&#39;) are two objects to consider. In what sense are these the same\n",
        "object? Are these just two ways of representing the exact same value, or do they correspond to\n",
        "different internal states?\n",
        "\n",
        "Answer: the output of both od them will be same this is just a way of representing precision upto 3 decimal points basic mathematics can be seen here in below example. the deciam class while outputting the result rund off the value to 1.2 from 1.200"
      ],
      "metadata": {
        "id": "7Vvde5rMrpvK"
      }
    },
    {
      "cell_type": "code",
      "source": [
        "c  = 1.200\n",
        "d = 1.2 \n",
        "print(c,d)"
      ],
      "metadata": {
        "colab": {
          "base_uri": "https://localhost:8080/"
        },
        "id": "fbhtlk5xsu2F",
        "outputId": "a3336455-abdc-465a-996c-813fa60a111d"
      },
      "execution_count": null,
      "outputs": [
        {
          "output_type": "stream",
          "name": "stdout",
          "text": [
            "1.2 1.2\n"
          ]
        }
      ]
    },
    {
      "cell_type": "markdown",
      "source": [
        "\n",
        "Q3. What happens if the equality of Decimal(&#39;1.200&#39;) and Decimal(&#39;1.2&#39;) is checked?\n",
        "\n",
        "Answer: Float stores an approximate value and decimal stores an exact value"
      ],
      "metadata": {
        "id": "GSP30uQlrps9"
      }
    },
    {
      "cell_type": "code",
      "source": [
        "c  = 1.200\n",
        "d = 1.2 \n",
        "if c == d:\n",
        "  print(c,d)\n",
        "print(type(c))"
      ],
      "metadata": {
        "colab": {
          "base_uri": "https://localhost:8080/"
        },
        "id": "6md1zAgwtVM1",
        "outputId": "161374c7-d9ca-4895-9f72-fe0e2ac27d77"
      },
      "execution_count": null,
      "outputs": [
        {
          "output_type": "stream",
          "name": "stdout",
          "text": [
            "1.2 1.2\n",
            "<class 'float'>\n"
          ]
        }
      ]
    },
    {
      "cell_type": "markdown",
      "source": [
        "\n",
        "Q4. Why is it preferable to start a Decimal object with a string rather than a floating-point value?\n",
        "\n",
        "Answer: Because using floats for currency will just cause errors down the road. floats are NOT usable for representing real world values like money - not reliably, anyways."
      ],
      "metadata": {
        "id": "dgDq43A4rpq0"
      }
    },
    {
      "cell_type": "code",
      "source": [
        "from decimal import *\n",
        "getcontext().prec = 6\n",
        "print(Decimal(1) / Decimal(7))\n",
        "getcontext().prec = 28\n",
        "print(Decimal(1) / Decimal(7))"
      ],
      "metadata": {
        "colab": {
          "base_uri": "https://localhost:8080/"
        },
        "id": "OEJuiydEulqH",
        "outputId": "4f53c31f-0927-41ad-fa0e-5bbd2a5df245"
      },
      "execution_count": null,
      "outputs": [
        {
          "output_type": "stream",
          "name": "stdout",
          "text": [
            "0.142857\n",
            "0.1428571428571428571428571429\n"
          ]
        }
      ]
    },
    {
      "cell_type": "markdown",
      "source": [
        "\n",
        "Q5. In an arithmetic phrase, how simple is it to combine Decimal objects with integers?\n",
        "\n",
        "Answer: Shown below"
      ],
      "metadata": {
        "id": "ZP0OQPhlrppW"
      }
    },
    {
      "cell_type": "code",
      "source": [
        ".6 + 1"
      ],
      "metadata": {
        "colab": {
          "base_uri": "https://localhost:8080/"
        },
        "id": "Bw7abn-2ufnG",
        "outputId": "4b86edef-175b-4c0a-b404-138b78f5b9cd"
      },
      "execution_count": null,
      "outputs": [
        {
          "output_type": "execute_result",
          "data": {
            "text/plain": [
              "1.6"
            ]
          },
          "metadata": {},
          "execution_count": 10
        }
      ]
    },
    {
      "cell_type": "markdown",
      "source": [
        "\n",
        "Q6. Can Decimal objects and floating-point values be combined easily?\n",
        "\n",
        "Answer: Decimal objects cannot generally be combined with floats or instances of fractions."
      ],
      "metadata": {
        "id": "PIJAs9Nfrplo"
      }
    },
    {
      "cell_type": "markdown",
      "source": [
        "\n",
        "Q7. Using the Fraction class but not the Decimal class, give an example of a quantity that can be\n",
        "expressed with absolute precision.\n"
      ],
      "metadata": {
        "id": "bVy87YWxrpiD"
      }
    },
    {
      "cell_type": "code",
      "source": [
        "from fractions import Fraction\n",
        "\n",
        "print (Fraction(11, 35))\n",
        "# returns Fraction(11, 35)\n",
        "print (Fraction(10, 18))\n",
        "# returns Fraction(5, 9)\n",
        "print (Fraction())\n",
        "# returns Fraction(0, 1)\n"
      ],
      "metadata": {
        "colab": {
          "base_uri": "https://localhost:8080/"
        },
        "id": "I6PjKflGvK6_",
        "outputId": "a32642df-0761-45c2-938b-88ac82c6fc38"
      },
      "execution_count": null,
      "outputs": [
        {
          "output_type": "stream",
          "name": "stdout",
          "text": [
            "11/35\n",
            "5/9\n",
            "0\n"
          ]
        }
      ]
    },
    {
      "cell_type": "code",
      "source": [
        "from fractions import Fraction\n",
        "print (Fraction('3.14159265358979323846'))\n",
        "print (Fraction('3.14159265358979323846').limit_denominator(10000))\n",
        "print (Fraction('3.14159265358979323846').limit_denominator(100))\n",
        "print (Fraction('3.14159265358979323846').limit_denominator(10))\n",
        "print (Fraction(125, 50).numerator)\n",
        "print (Fraction(125, 50).denominator)"
      ],
      "metadata": {
        "colab": {
          "base_uri": "https://localhost:8080/"
        },
        "id": "c5Dh8oZkvh7b",
        "outputId": "fae94806-f9f4-48e1-d538-fc3182b91465"
      },
      "execution_count": null,
      "outputs": [
        {
          "output_type": "stream",
          "name": "stdout",
          "text": [
            "157079632679489661923/50000000000000000000\n",
            "355/113\n",
            "311/99\n",
            "22/7\n",
            "5\n",
            "2\n"
          ]
        }
      ]
    },
    {
      "cell_type": "markdown",
      "source": [
        "\n",
        "Q8. Describe a quantity that can be accurately expressed by the Decimal or Fraction classes but not by\n",
        "a floating-point value.\n",
        "\n",
        "Answer: 0.00011 is a finite representation of an infinite number of digits. That doesn't help us with floating-point. Floating-point does not represent numbers using repeat bars; it represents them with a fixed number of bits it can be represented by decimal or fraction class"
      ],
      "metadata": {
        "id": "i9im2skDrpgF"
      }
    },
    {
      "cell_type": "markdown",
      "source": [
        "\n",
        "Q9.Consider the following two fraction objects: Fraction(1, 2) and Fraction(1, 2). (5, 10). Is the internal\n",
        "state of these two objects the same? Why do you think that is?\n",
        "\n",
        "Answer: the internal state is same will give fraction of 1/2"
      ],
      "metadata": {
        "id": "h1mqyt80sCf7"
      }
    },
    {
      "cell_type": "markdown",
      "source": [
        "\n",
        "Q10. How do the Fraction class and the integer type (int) relate to each other? Containment or\n",
        "inheritance?\n",
        "\n",
        "Answer: Inheritence"
      ],
      "metadata": {
        "id": "z9F4tBWgsCTX"
      }
    }
  ]
}
