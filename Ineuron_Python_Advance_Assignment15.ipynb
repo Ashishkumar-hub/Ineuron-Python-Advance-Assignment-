{
  "nbformat": 4,
  "nbformat_minor": 0,
  "metadata": {
    "colab": {
      "name": "Ineuron_Python_Advance_Assignment15.ipynb",
      "provenance": []
    },
    "kernelspec": {
      "name": "python3",
      "display_name": "Python 3"
    },
    "language_info": {
      "name": "python"
    }
  },
  "cells": [
    {
      "cell_type": "markdown",
      "source": [
        "**Ineuron Python Advance Assignment 15**"
      ],
      "metadata": {
        "id": "c1NGjM6ZmwKr"
      }
    },
    {
      "cell_type": "markdown",
      "source": [
        "Q1. What are the new features added in Python 3.8 version?\n",
        "\n",
        "Answer: \n",
        "Python 3.8 adds some new syntax to the language, a few minor changes to existing behavior, and mostly a bunch of speed improvements — maintaining the tradition from the earlier 3.7 release\n",
        "\n",
        "Example: PEP 572 (Assignment Expressions) – The walrus operator (:=)"
      ],
      "metadata": {
        "id": "p0li_XJGm3zu"
      }
    },
    {
      "cell_type": "markdown",
      "source": [
        "Q2. What is monkey patching in Python?\n",
        "\n",
        "Answer: In Python, the term monkey patch refers to dynamic (or run-time) modifications of a class or module. In Python, we can actually change the behavior of code at run-time."
      ],
      "metadata": {
        "id": "RcJdm2Cgm3xV"
      }
    },
    {
      "cell_type": "code",
      "source": [
        "# save as monk.py and calll below \n",
        "class A:\n",
        "     def func(self):\n",
        "          print (\"func() is being called\")"
      ],
      "metadata": {
        "id": "IC2H9s2lodxt"
      },
      "execution_count": null,
      "outputs": []
    },
    {
      "cell_type": "code",
      "source": [
        "def monkey_f(self):\n",
        "\tprint (\"monkey_f() is being called\")\n",
        "\n",
        "# replacing address of \"func\" with \"monkey_f\"\n",
        "monk.A.func = monkey_f\n",
        "obj = monk.A()\n",
        "\n",
        "# calling function \"func\" whose address got replaced with function \"monkey_f()\"\n",
        "obj.func()\n"
      ],
      "metadata": {
        "id": "p6r1io8Oojfa"
      },
      "execution_count": null,
      "outputs": []
    },
    {
      "cell_type": "code",
      "source": [
        "# OUTPUT: monkey_f() is being called "
      ],
      "metadata": {
        "id": "rVh0dXH4okoo"
      },
      "execution_count": null,
      "outputs": []
    },
    {
      "cell_type": "markdown",
      "source": [
        "\n",
        "Q3. What is the difference between a shallow copy and deep copy?\n",
        "\n",
        "Answer: A shallow copy constructs a new compound object and then (to the extent possible) inserts references into it to the objects found in the original. A deep copy constructs a new compound object and then, recursively, inserts copies into it of the objects found in the original."
      ],
      "metadata": {
        "id": "dUgB4Xstm3u0"
      }
    },
    {
      "cell_type": "markdown",
      "source": [
        "Q4. What is the maximum possible length of an identifier?\n",
        "\n",
        "Answer: Identifiers can be a combination of letters, numbers, special symbols, etc. But it must not extend 31 characters. Hence, the maximum possible length of an identifier is 31"
      ],
      "metadata": {
        "id": "C441Nkb_m3rj"
      }
    },
    {
      "cell_type": "markdown",
      "source": [
        "Q5. What is generator comprehension?\n",
        "\n",
        "Answer: A generator comprehension is a single-line specification for defining a generator in Python. \n",
        "\n"
      ],
      "metadata": {
        "id": "xpvT3d-jm3oe"
      }
    },
    {
      "cell_type": "code",
      "source": [
        "gen = (i**2 for i in range(100))\n",
        "print(gen)"
      ],
      "metadata": {
        "colab": {
          "base_uri": "https://localhost:8080/"
        },
        "id": "Z2Z3QZyNpdhM",
        "outputId": "b7ee7696-674b-422d-d4a8-db45bdc600ca"
      },
      "execution_count": 5,
      "outputs": [
        {
          "output_type": "stream",
          "name": "stdout",
          "text": [
            "<generator object <genexpr> at 0x7f834aa67250>\n"
          ]
        }
      ]
    },
    {
      "cell_type": "code",
      "execution_count": 6,
      "metadata": {
        "colab": {
          "base_uri": "https://localhost:8080/"
        },
        "id": "bS4hvby0mrgF",
        "outputId": "1960c1af-d4b3-4c83-83bb-ce10cc5015f9"
      },
      "outputs": [
        {
          "output_type": "execute_result",
          "data": {
            "text/plain": [
              "328350"
            ]
          },
          "metadata": {},
          "execution_count": 6
        }
      ],
      "source": [
        "gen = (i**2 for i in range(100))\n",
        "sum(gen)"
      ]
    },
    {
      "cell_type": "code",
      "source": [
        "gen = (i for i in range(1, 11))\n",
        "5 in gen"
      ],
      "metadata": {
        "colab": {
          "base_uri": "https://localhost:8080/"
        },
        "id": "H_W2TqlFpnor",
        "outputId": "8e7b3d19-f642-417c-9d20-7083011a4f9d"
      },
      "execution_count": 7,
      "outputs": [
        {
          "output_type": "execute_result",
          "data": {
            "text/plain": [
              "True"
            ]
          },
          "metadata": {},
          "execution_count": 7
        }
      ]
    }
  ]
}