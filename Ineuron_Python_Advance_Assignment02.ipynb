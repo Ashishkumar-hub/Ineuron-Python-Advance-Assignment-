{
  "nbformat": 4,
  "nbformat_minor": 0,
  "metadata": {
    "colab": {
      "name": "Ineuron_Python_Advance_Assignment2.ipynb",
      "provenance": []
    },
    "kernelspec": {
      "name": "python3",
      "display_name": "Python 3"
    },
    "language_info": {
      "name": "python"
    }
  },
  "cells": [
    {
      "cell_type": "markdown",
      "source": [
        "**Ineuron Python Advance Assignment 2**"
      ],
      "metadata": {
        "id": "WrNfMDQmVW1m"
      }
    },
    {
      "cell_type": "markdown",
      "source": [
        "Q1. What is the relationship between classes and modules?\n",
        "\n",
        "Answer: Modules are collections of methods and constants. They cannot generate instances. Classes may generate instances (objects), and have per-instance state (instance variables)."
      ],
      "metadata": {
        "id": "8ztayaPtVWw4"
      }
    },
    {
      "cell_type": "markdown",
      "source": [
        "\n",
        "Q2. How do you make instances and classes?\n",
        "\n",
        "Answer: Classes can be cretaed with the help of keyword class. To create instances of a class, we can call the class using class name and pass in whatever arguments its __init__ method accepts."
      ],
      "metadata": {
        "id": "7vAj0cTUVWtl"
      }
    },
    {
      "cell_type": "markdown",
      "source": [
        "Q3. Where and how should be class attributes created?\n",
        "\n",
        "Answer: Any variable that is bound in a class is a class attribute. Any function defined within a class is a method. Methods receive an instance of the class, conventionally called self, as the first argument. For example"
      ],
      "metadata": {
        "id": "3alBr_ShVWn_"
      }
    },
    {
      "cell_type": "code",
      "source": [
        "class MyClass:\n",
        "    attr1 = 10        #class attributes\n",
        "    attr2 = \"hello\"\n",
        "\n",
        "    def method1(self):\n",
        "        print( MyClass.attr1)   #reference the class attribute\n",
        "\n",
        "    def method2(self):\n",
        "        print( MyClass.attr2)   #reference the class attribute\n",
        "\n",
        "    def method3(self, text):\n",
        "        self.text = text        #instance attribute\n",
        "        print( text, self.text)   #print my argument and my attribute\n",
        "\n",
        "    method4 = method3   #make an alias for method3"
      ],
      "metadata": {
        "id": "MwimE4XgW555"
      },
      "execution_count": 2,
      "outputs": []
    },
    {
      "cell_type": "markdown",
      "source": [
        "\n",
        "Q4. Where and how are instance attributes created?\n",
        "\n",
        "Answer: Instance attributes are attributes or properties attached to an instance of a class. Instance attributes are defined in the constructor."
      ],
      "metadata": {
        "id": "GgfF78qiVWl9"
      }
    },
    {
      "cell_type": "markdown",
      "source": [
        "\n",
        "Q5. What does the term &quot;self&quot; in a Python class mean?\n",
        "\n",
        "Answer: self represents the instance of the class. By using the “self” keyword we can access the attributes and methods of the class in python. It binds the attributes with the given arguments."
      ],
      "metadata": {
        "id": "NIPYj0E0VWj9"
      }
    },
    {
      "cell_type": "markdown",
      "source": [
        "\n",
        "Q6. How does a Python class handle operator overloading?\n",
        "\n",
        "Answer: The operator overloading in Python means provide extended meaning beyond their predefined operational meaning. Such as, we use the \"+\" operator for adding two integers as well as joining two strings or merging two lists. We can achieve this as the \"+\" operator is overloaded by the \"int\" class and \"str\" class. The user can notice that the same inbuilt operator or function is showing different behaviour for objects of different classes. This process is known as operator overloading.\n",
        "For example: "
      ],
      "metadata": {
        "id": "l-m7aoupVWiT"
      }
    },
    {
      "cell_type": "code",
      "source": [
        "class complex_1:  \n",
        "    def __init__(self, X, Y):  \n",
        "        self.X = X  \n",
        "        self.Y = Y  \n",
        "   \n",
        "    # Now, we will add the two objects  \n",
        "    def __add__(self, U):  \n",
        "        return self.X + U.X, self.Y + U.Y  \n",
        "   \n",
        "Object_1 = complex_1(23, 12)  \n",
        "Object_2 = complex_1(21, 22)  \n",
        "Object_3 = Object_1 + Object_2  \n",
        "print (Object_3)  "
      ],
      "metadata": {
        "colab": {
          "base_uri": "https://localhost:8080/"
        },
        "id": "1Gm6uupeYB82",
        "outputId": "126174e7-483a-42c5-e67f-7e61dfbf0aad"
      },
      "execution_count": 3,
      "outputs": [
        {
          "output_type": "stream",
          "name": "stdout",
          "text": [
            "(44, 34)\n"
          ]
        }
      ]
    },
    {
      "cell_type": "markdown",
      "source": [
        "\n",
        "Q7. When do you consider allowing operator overloading of your classes?\n",
        "\n",
        "Answer: Suppose that we have two objects which are a physical representation of a class (user-defined data type) and we have to add two objects with binary '+' operator it throws an error, because compiler don't know how to add two objects. So we define a method for an operator and that process is called operator overloading."
      ],
      "metadata": {
        "id": "85aVhzEcVkAw"
      }
    },
    {
      "cell_type": "markdown",
      "source": [
        "\n",
        "Q8. What is the most popular form of operator overloading?\n",
        "\n",
        "Answer : A very popular and convenient example is the Addition (+) operator.  the '+' operator operates on two numbers and the same operator operates on two strings. It performs “Addition” on numbers whereas it performs “Concatenation” on strings.\n"
      ],
      "metadata": {
        "id": "HPf7K-InVkkT"
      }
    },
    {
      "cell_type": "markdown",
      "source": [
        "\n",
        "Q9. What are the two most important concepts to grasp in order to comprehend Python OOP code?\n",
        "\n",
        "Answer: The two most important concepts to grasp in order to comprehend Python OOP code are polymorphism and inheritence."
      ],
      "metadata": {
        "id": "m4kWvoQyVnUg"
      }
    },
    {
      "cell_type": "code",
      "execution_count": 12,
      "metadata": {
        "colab": {
          "base_uri": "https://localhost:8080/"
        },
        "id": "JMeWeLimVQr3",
        "outputId": "75f82364-1b8f-43ce-a845-2b2834c8cbd1"
      },
      "outputs": [
        {
          "output_type": "stream",
          "name": "stdout",
          "text": [
            "this is a msg to ineruon\n",
            "this is a msg to xyz\n"
          ]
        }
      ],
      "source": [
        "#polymorphism example :\n",
        "class ineuron:\n",
        "    def msg(self):\n",
        "        print(\"this is a msg to ineruon\")\n",
        "          \n",
        "class xyz:  \n",
        "    def msg(self):\n",
        "        print(\"this is a msg to xyz\")     \n",
        "\n",
        "def test(notes):\n",
        "    notes.msg()\n",
        "\n",
        "i = ineuron()\n",
        "x = xyz()\n",
        "\n",
        "test(i) # function giving some result\n",
        "test(x) # same function giving some other result"
      ]
    },
    {
      "cell_type": "code",
      "source": [
        "#inheritence example:\n",
        "class Ineuron:\n",
        "    company_website = 'https://ineuron.ai/'\n",
        "    name = 'iNeuron'\n",
        " \n",
        "    def contact_details(self):\n",
        "        print('Contact us at ', self.company_website)\n",
        "\n",
        "class Datascience(Ineuron):\n",
        "    def __init__(self):\n",
        "        self.year_of_establishment= 2018\n",
        " \n",
        "    def est_details(self):\n",
        "        print('{0} Company was established in {1}'\n",
        "              .format(self.name,self.year_of_establishment))\n",
        " \n",
        "ds = Datascience()\n",
        "ds.est_details()"
      ],
      "metadata": {
        "colab": {
          "base_uri": "https://localhost:8080/"
        },
        "id": "p9alfNm3Zlac",
        "outputId": "68ae1ed2-1fe7-4a7f-94f7-925fe41d3650"
      },
      "execution_count": 13,
      "outputs": [
        {
          "output_type": "stream",
          "name": "stdout",
          "text": [
            "iNeuron Company was established in 2018\n"
          ]
        }
      ]
    },
    {
      "cell_type": "code",
      "source": [
        ""
      ],
      "metadata": {
        "colab": {
          "base_uri": "https://localhost:8080/"
        },
        "id": "-GWuNf8QZyKe",
        "outputId": "28ccc699-40c4-495d-b4b2-c0b9c78b3e06"
      },
      "execution_count": 10,
      "outputs": [
        {
          "output_type": "stream",
          "name": "stdout",
          "text": [
            "this is a msg to ineruon\n",
            "None\n",
            "this is a msg to xyz\n",
            "None\n"
          ]
        }
      ]
    }
  ]
}
