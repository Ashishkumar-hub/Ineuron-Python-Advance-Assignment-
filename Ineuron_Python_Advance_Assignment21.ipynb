{
  "nbformat": 4,
  "nbformat_minor": 0,
  "metadata": {
    "colab": {
      "name": "Ineuron_Python_Advance_Assignment21.ipynb",
      "provenance": []
    },
    "kernelspec": {
      "name": "python3",
      "display_name": "Python 3"
    },
    "language_info": {
      "name": "python"
    }
  },
  "cells": [
    {
      "cell_type": "markdown",
      "source": [
        "**Ineuron Python Advance Assignment 21**"
      ],
      "metadata": {
        "id": "G9L06Ko-yNDV"
      }
    },
    {
      "cell_type": "markdown",
      "source": [
        "Q1. What is a probability distribution, exactly? If the values are meant to be random, how can you predict them at all?\n",
        "\n",
        "Answer: A probability distribution is a statistical function that describes all the possible values and likelihoods that a random variable can take within a given range. These factors include the distribution's mean (average), standard deviation, skewness, and kurtosis.\n",
        "\n",
        "If the values are meant to be random, we can predict them using following steps: \n",
        "\n",
        "Step 1: List all simple events in sample space. \n",
        "\n",
        "Step 2: Find probability for each simple event. \n",
        "\n",
        "Step 3: List possible values for random variable X and identify the value for each simple event. \n",
        "\n",
        "Step 4: Find all simple events for which X = k, for each possible value k."
      ],
      "metadata": {
        "id": "GtE_BiGXyM_b"
      }
    },
    {
      "cell_type": "markdown",
      "source": [
        "\n",
        "Q2. Is there a distinction between true random numbers and pseudo-random numbers, if there is\n",
        "one? Why are the latter considered “good enough”?\n",
        "\n",
        "Answer: The difference between true random number generators(TRNGs) and pseudo-random number generators(PRNGs) is that TRNGs use an unpredictable physical means to generate numbers (like atmospheric noise), and PRNGs use mathematical algorithms (completely computer-generated). pseudo-random number are good enough because we usually don't need true randomness for most applications. What We need is unpredictability. If we're using a random number generator in a game, we don't care if the numbers are truly random; we only care that they aren't predictable."
      ],
      "metadata": {
        "id": "zZOKF9HhyM7B"
      }
    },
    {
      "cell_type": "markdown",
      "source": [
        "\n",
        "Q3. What are the two main factors that influence the behaviour of a &quot;normal&quot; probability distribution?\n",
        "\n",
        "Answer: The first rule states that the sum of the probabilities must equal 1. The second rule states that each probability must be between 0 and 1, inclusive."
      ],
      "metadata": {
        "id": "RdAy92c_yM4_"
      }
    },
    {
      "cell_type": "markdown",
      "source": [
        "\n",
        "Q4. Provide a real-life example of a normal distribution.\n",
        "\n",
        "Answer: Rolling A Dice\n",
        "\n",
        "A fair rolling of dice is also a good example of normal distribution. In an experiment, it has been found that when a dice is rolled 100 times, chances to get '1' are 15-18% and if we roll the dice 1000 times, the chances to get '1' is, again, the same, which averages to 16.7% (1/6)."
      ],
      "metadata": {
        "id": "LLxf4NBpyM3k"
      }
    },
    {
      "cell_type": "markdown",
      "source": [
        "\n",
        "Q5. In the short term, how can you expect a probability distribution to behave? What do you think will\n",
        "happen as the number of trials grows?\n",
        "\n",
        "Answer: Depends on the data for the distribution. it initially wil be rising and after a certain threshold achieving it it will go down."
      ],
      "metadata": {
        "id": "hYIgQ6SsyMXa"
      }
    },
    {
      "cell_type": "markdown",
      "source": [
        "\n",
        "Q6. What kind of object can be shuffled by using random.shuffle?\n",
        "\n",
        "Answer:  random provides shuffle() that shuffles the original list in place, and sample() that returns a new list that is randomly shuffled. sample() can also be used for strings and tuples."
      ],
      "metadata": {
        "id": "qmMr0ma6ydZo"
      }
    },
    {
      "cell_type": "markdown",
      "source": [
        "\n",
        "Q7. Describe the math package&#39;s general categories of functions.\n",
        "\n",
        "Answer: sin, cos, sqrt, pow, log, exp etc."
      ],
      "metadata": {
        "id": "GzVk2xL3yeIj"
      }
    },
    {
      "cell_type": "markdown",
      "source": [
        "\n",
        "Q8. What is the relationship between exponentiation and logarithms?\n",
        "\n",
        "Answer: Logarithmic functions are the inverses of exponential functions. The inverse of the exponential function y = a^x is x = a^y. The logarithmic function y = log_a^x is defined to be equivalent to the exponential equation x = a^y."
      ],
      "metadata": {
        "id": "07SJ2MaDydtZ"
      }
    },
    {
      "cell_type": "markdown",
      "source": [
        "\n",
        "Q9. What are the three logarithmic functions that Python supports?\n",
        "\n",
        "Answer: log2(x)\n",
        "\n",
        "log(x, Base)\n",
        "\n",
        "log10(x)\n",
        "\n",
        "log1p(x)"
      ],
      "metadata": {
        "id": "KuyQ7dnWyho_"
      }
    }
  ]
}