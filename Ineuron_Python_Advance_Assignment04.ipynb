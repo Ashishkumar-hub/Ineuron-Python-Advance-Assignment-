{
  "nbformat": 4,
  "nbformat_minor": 0,
  "metadata": {
    "colab": {
      "name": "Ineuron_Python_Advance_Assignment04.ipynb",
      "provenance": []
    },
    "kernelspec": {
      "name": "python3",
      "display_name": "Python 3"
    },
    "language_info": {
      "name": "python"
    }
  },
  "cells": [
    {
      "cell_type": "markdown",
      "source": [
        "**Ineuron Python Advance Assignment 04**"
      ],
      "metadata": {
        "id": "1RKdytZCizW6"
      }
    },
    {
      "cell_type": "markdown",
      "source": [
        "Q1. Which two operator overloading methods can you use in your classes to support iteration?\n",
        "\n",
        "Answer: __init__, __str__ are two operator overloading methods can which can be used to support iteration."
      ],
      "metadata": {
        "id": "EiycecSyizSs"
      }
    },
    {
      "cell_type": "markdown",
      "source": [
        "\n",
        "Q2. In what contexts do the two operator overloading methods manage printing?\n",
        "\n",
        "Answer: They can mamnage priting or outputting values wuth return statements.\n",
        "\n",
        "In cases where the __str__() method is not defined, Python uses the __repr__() method to print the object, as well as to represent the object when str() is called on it."
      ],
      "metadata": {
        "id": "mCA-YhuNizPu"
      }
    },
    {
      "cell_type": "markdown",
      "source": [
        "\n",
        "Q3. In a class, how do you intercept slice operations?\n",
        "\n",
        "Answer: Shown below-"
      ],
      "metadata": {
        "id": "Fi0cVTSEizNO"
      }
    },
    {
      "cell_type": "code",
      "source": [
        "sliced ='ashish kumar singh'.__getitem__(slice(0, 8, 1)) #using slice() and __getitem__ slicing can be achieved in class\n",
        "print(sliced)"
      ],
      "metadata": {
        "colab": {
          "base_uri": "https://localhost:8080/"
        },
        "id": "o86M7n5ppy1t",
        "outputId": "32c12cfc-81e7-4b09-d79c-d33bc464d65b"
      },
      "execution_count": 6,
      "outputs": [
        {
          "output_type": "stream",
          "name": "stdout",
          "text": [
            "ashish k\n"
          ]
        }
      ]
    },
    {
      "cell_type": "code",
      "source": [
        "#The class demo has the __getitem__ method, slicing is comma-separated. \n",
        "#Key prints the sliced object which is passed in class through variable a.\n",
        "\n",
        "class Demo:\n",
        "\tdef __getitem__(self, key):\n",
        "\t\t# print a[1], a[1, 2],\n",
        "\t\t# a[1, 2, 3]\n",
        "\t\tprint(key)\n",
        "\t\t#return key\n",
        "\n",
        "a = Demo()\n",
        "a[1]\n",
        "a[1, 2]\n",
        "a[1, 2, 3]"
      ],
      "metadata": {
        "colab": {
          "base_uri": "https://localhost:8080/"
        },
        "id": "yOLFp9kipPkF",
        "outputId": "b587cdd1-2916-494d-f46e-d0c47ff1cc98"
      },
      "execution_count": 4,
      "outputs": [
        {
          "output_type": "stream",
          "name": "stdout",
          "text": [
            "1\n",
            "(1, 2)\n",
            "(1, 2, 3)\n"
          ]
        }
      ]
    },
    {
      "cell_type": "markdown",
      "source": [
        "\n",
        "Q4. In a class, how do you capture in-place addition?\n",
        "\n",
        "Answer: Python provides the operator x += y to add two objects in-place by calculating the sum x + y and assigning the result to the first operands variable name x. We can set up the in-place addition behavior for our own class by overriding the magic “dunder” method __iadd__(self, other) in our class definition."
      ],
      "metadata": {
        "id": "ZVU_6Y_QizLE"
      }
    },
    {
      "cell_type": "markdown",
      "source": [
        "\n",
        "Q5. When is it appropriate to use operator overloading?\n",
        "\n",
        "Answer: The operator overloading in Python means provide extended meaning beyond their predefined operational meaning. Such as, we use the \"+\" operator for adding two integers as well as joining two strings or merging two lists. We can achieve this as the \"+\" operator is overloaded by the \"int\" class and \"str\" class. Hence when we have to extended meaning beyond their predefined operational meaning we can use operator overloading,"
      ],
      "metadata": {
        "id": "rVkCZL6NizIo"
      }
    }
  ]
}