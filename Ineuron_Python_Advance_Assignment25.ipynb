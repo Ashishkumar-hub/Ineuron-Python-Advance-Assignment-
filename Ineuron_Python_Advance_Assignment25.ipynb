{
  "nbformat": 4,
  "nbformat_minor": 0,
  "metadata": {
    "colab": {
      "name": "Ineuron_Python_Advance_Assignment25.ipynb",
      "provenance": []
    },
    "kernelspec": {
      "name": "python3",
      "display_name": "Python 3"
    },
    "language_info": {
      "name": "python"
    }
  },
  "cells": [
    {
      "cell_type": "markdown",
      "source": [
        "**Ineuron Python Advance Assignment 25**"
      ],
      "metadata": {
        "id": "84zF1fZSJNxL"
      }
    },
    {
      "cell_type": "markdown",
      "source": [
        "Q1. What is the distinction between a numpy array and a pandas data frame? Is there a way to convert between the two if there is?\n",
        "\n",
        "Answer: The Pandas module mainly works with the tabular data, whereas the NumPy module works with the numerical data. NumPy library provides objects for multi-dimensional arrays, whereas Pandas is capable of offering an in-memory 2d table object called DataFrame. NumPy consumes less memory as compared to Pandas."
      ],
      "metadata": {
        "id": "Q2ThGiwXJNtd"
      }
    },
    {
      "cell_type": "code",
      "source": [
        "import pandas as pd\n",
        "import numpy as np\n",
        "\n",
        "data = {'Age': [15,25,35,45],\n",
        "        'Birth Year': [2006,1996,1986, np.NaN]\n",
        "        }\n",
        "\n",
        "df = pd.DataFrame(data, columns = ['Age','Birth Year'])\n",
        "\n",
        "numpy_array = df.to_numpy()\n",
        "\n",
        "print(numpy_array)\n",
        "\n",
        "print(type(numpy_array))"
      ],
      "metadata": {
        "colab": {
          "base_uri": "https://localhost:8080/"
        },
        "id": "WwyuLjlrJ5DK",
        "outputId": "031885ae-0128-4cbd-f87e-6d31815d787c"
      },
      "execution_count": 1,
      "outputs": [
        {
          "output_type": "stream",
          "name": "stdout",
          "text": [
            "[[  15. 2006.]\n",
            " [  25. 1996.]\n",
            " [  35. 1986.]\n",
            " [  45.   nan]]\n",
            "<class 'numpy.ndarray'>\n"
          ]
        }
      ]
    },
    {
      "cell_type": "markdown",
      "source": [
        "\n",
        "Q2. What can go wrong when an user enters in a stock-ticker symbol, and how do you handle it?\n",
        "\n",
        "Answer: Ticker symbols aren't static and can change in the event of a merger, name change, or delisting. \n",
        "we can implement a try except else and finally block to deal with it."
      ],
      "metadata": {
        "id": "h_WWBtPTJNq7"
      }
    },
    {
      "cell_type": "markdown",
      "source": [
        "\n",
        "Q3. Identify some of the plotting techniques that are used to produce a stock-market chart.\n",
        "\n",
        "Answer: The main chart types used by most traders are the Line Chart, Candlestick Chart, Renko Chart, and Point and Figure charts. Usingm atplotlib we can make charts."
      ],
      "metadata": {
        "id": "RO8gX2BGJNoI"
      }
    },
    {
      "cell_type": "code",
      "source": [
        "import matplotlib.pyplot as plt\n",
        "import numpy as np\n",
        "\n",
        "x = np.array([1, 2, 3, 4])\n",
        "y = x*2\n",
        "\n",
        "# first plot with X and Y data\n",
        "plt.plot(x, y)\n",
        "\n",
        "x1 = [2, 4, 6, 8]\n",
        "y1 = [3, 5, 7, 9]\n",
        "\n",
        "# second plot with x1 and y1 data\n",
        "plt.plot(x1, y1, '-.')\n",
        "\n",
        "plt.xlabel(\"X-axis data\")\n",
        "plt.ylabel(\"Y-axis data\")\n",
        "plt.title('multiple plots')\n",
        "plt.show()\n"
      ],
      "metadata": {
        "colab": {
          "base_uri": "https://localhost:8080/",
          "height": 295
        },
        "id": "1DrLsI86LX6Q",
        "outputId": "418cce83-d963-4fab-c83b-b6dd078747bf"
      },
      "execution_count": 2,
      "outputs": [
        {
          "output_type": "display_data",
          "data": {
            "image/png": "[encoded data removed]",
            "text/plain": [
              "<Figure size 432x288 with 1 Axes>"
            ]
          },
          "metadata": {
            "needs_background": "light"
          }
        }
      ]
    },
    {
      "cell_type": "markdown",
      "source": [
        "\n",
        "Q4. Why is it essential to print a legend on a stock market chart?\n",
        "\n",
        "Answer: legend helps end user to identify the growth of a particular stock by seeing a chart. its crucial in data analytics."
      ],
      "metadata": {
        "id": "AULCZpwSJNnL"
      }
    },
    {
      "cell_type": "markdown",
      "source": [
        "\n",
        "Q5. What is the best way to limit the length of a pandas data frame to less than a year?\n",
        "\n",
        "Answer: truncate() function is used to truncate a Series or DataFrame before and after some index value. This is a useful shorthand for boolean indexing based on index values above or below certain thresholds."
      ],
      "metadata": {
        "id": "o6DXQhlUJNmC"
      }
    },
    {
      "cell_type": "markdown",
      "source": [
        "\n",
        "Q6. What is the definition of a 180-day moving average?\n",
        "\n",
        "Answer: a moving average is an indicator that shows the average value of a stock's price over a period (i.e. 10 days, 50 days, 180 days, 200 days, etc) and is usually plotted along with the closing price.\n"
      ],
      "metadata": {
        "id": "72VBwENUJNh8"
      }
    },
    {
      "cell_type": "markdown",
      "source": [
        "\n",
        "Q7. Did the chapter&#39;s final example use &quot;indirect&quot; importing? If so, how exactly do you do it?\n",
        "\n",
        "Answer: I didn't get the questioon which importing it is talking bout."
      ],
      "metadata": {
        "id": "x-m6UpZMJNfz"
      }
    }
  ]
}