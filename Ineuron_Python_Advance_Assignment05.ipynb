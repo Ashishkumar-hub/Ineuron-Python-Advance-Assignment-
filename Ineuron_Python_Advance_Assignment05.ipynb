{
  "nbformat": 4,
  "nbformat_minor": 0,
  "metadata": {
    "colab": {
      "name": "Ineuron_Python_Advance_Assignment05.ipynb",
      "provenance": [],
      "collapsed_sections": []
    },
    "kernelspec": {
      "name": "python3",
      "display_name": "Python 3"
    },
    "language_info": {
      "name": "python"
    }
  },
  "cells": [
    {
      "cell_type": "markdown",
      "source": [
        "**Ineuron Python Advance Assignment 05**"
      ],
      "metadata": {
        "id": "Rwc8NEHdx6g4"
      }
    },
    {
      "cell_type": "markdown",
      "source": [
        "Q1. What is the meaning of multiple inheritance?\n",
        "\n",
        "Answer: Multiple inheritance means that a subclass can inherit from two or more superclasses. "
      ],
      "metadata": {
        "id": "zf3_MUS2x6bu"
      }
    },
    {
      "cell_type": "code",
      "source": [
        "#multiple inheritence\n",
        "class Ineuron:\n",
        "    company_website = 'https://ineuron.ai/'\n",
        "    name = 'iNeuron'\n",
        " \n",
        "    def contact_details(self):\n",
        "        print('Contact us at ', self.company_website)\n",
        "\n",
        "class OS:\n",
        "    multi_task = True\n",
        "    os_name = 'Windows OS'\n",
        "    name = \"ashish\"\n",
        "\n",
        "class windows(OS, Ineuron):\n",
        "    def __init__(self):\n",
        "        if self.multi_task is True:\n",
        "            print('multi_task')\n",
        "        print('Name: {}'.format(self.name))\n",
        " \n",
        "windows = windows() "
      ],
      "metadata": {
        "colab": {
          "base_uri": "https://localhost:8080/"
        },
        "id": "o0lO6rQayOQu",
        "outputId": "f24ba7dc-0141-47d0-eeb4-8b31c93e9869"
      },
      "execution_count": 2,
      "outputs": [
        {
          "output_type": "stream",
          "name": "stdout",
          "text": [
            "multi_task\n",
            "Name: ashish\n"
          ]
        }
      ]
    },
    {
      "cell_type": "markdown",
      "source": [
        "\n",
        "Q2. What is the concept of delegation?\n",
        "\n",
        "Answer: \n",
        "Answer : Delegation is an object oriented technique (also called a design pattern). Let's say we have an object x and want to change the behaviour of just one of its methods. we can create a new class that provides a new implementation of the method we're interested in changing and delegates all other methods to the corresponding method of x.\n",
        "\n",
        "Delegation can be imlemented easily. For example, the following class implements a class that behaves like a file but converts all written data to uppercase:"
      ],
      "metadata": {
        "id": "D6_DcRQzx6XN"
      }
    },
    {
      "cell_type": "code",
      "source": [
        "class UpperOut:\n",
        "  def __init__(self, outfile):\n",
        "    self.__outfile = outfile\n",
        "  def write(self, s):\n",
        "    self.__outfile.write(s.upper())\n",
        "  def __getattr__(self, name):\n",
        "    return getattr(self.__outfile, name)\n",
        "\n",
        "# Here the UpperOut class redefines the write() method to convert the argument string to uppercase before calling the underlying self.__outfile.write() method.\n",
        "# All other methods are delegated to the underlying self.__outfile object. The delegation is accomplished via the __getattr__ method."
      ],
      "metadata": {
        "id": "R3pFbzarzzhX"
      },
      "execution_count": 3,
      "outputs": []
    },
    {
      "cell_type": "markdown",
      "source": [
        "Q3. What is the concept of composition?\n",
        "\n",
        "Answer: It is one of the fundamental concepts of Object-Oriented Programming. In this concept, we describe a class that references to one or more objects of other classes as an Instance variable. Here, by using the class name or by creating the object we can access the members of one class inside another class. It enables creating complex types by combining objects of different classes. It means that a class Composite can contain an object of another class Component. This type of relationship is known as Has-A Relation.\n",
        "\n",
        "class A :\n",
        "      # variables of class A\n",
        "      # methods of class A\n",
        "      ...\n",
        "      ...\n",
        "class B : \n",
        "      # by using \"obj\" we can access member's of class A.\n",
        "      obj = A()\n",
        "      # variables of class B\n",
        "      # methods of class B\n",
        "      ...\n",
        "      ..."
      ],
      "metadata": {
        "id": "6E0CJJv6z_Y5"
      }
    },
    {
      "cell_type": "markdown",
      "source": [
        "Q4. What are bound methods and how do we use them?\n",
        "\n",
        "Answer: A bound method is the one which is dependent on the instance of the class as the first argument. It passes the instance as the first argument which is used to access the variables and functions. In Python 3 and newer versions of python, all functions in the class are by default bound methods.\n"
      ],
      "metadata": {
        "id": "rxmbJtn_x6Sv"
      }
    },
    {
      "cell_type": "markdown",
      "source": [
        "Q5. What is the purpose of pseudoprivate attributes?\n",
        "\n",
        "Answer: \n",
        "Pseudoprivate attributes are useful in larger frameworks or tools, both to avoid introducing new method names that might accidentally hide definitions elsewhere in the class tree and to reduce the chance of internal methods being replaced by names defined lower in the tree."
      ],
      "metadata": {
        "id": "gZtmDpFKx6RX"
      }
    },
    {
      "cell_type": "code",
      "source": [
        "class Info:\n",
        "    def __init__(self):\n",
        "        self.__name = 'ashish'\n",
        "    def __say(self):\n",
        "        return self.__name\n",
        "a = Info()\n",
        "print(a._Info__name) \n",
        "print(a._Info__say()) "
      ],
      "metadata": {
        "colab": {
          "base_uri": "https://localhost:8080/"
        },
        "id": "adrUfb6S-qwQ",
        "outputId": "ef5d0c79-408d-470d-8d04-8cc9593d502a"
      },
      "execution_count": 8,
      "outputs": [
        {
          "output_type": "stream",
          "name": "stdout",
          "text": [
            "ashish\n",
            "ashish\n"
          ]
        }
      ]
    }
  ]
}