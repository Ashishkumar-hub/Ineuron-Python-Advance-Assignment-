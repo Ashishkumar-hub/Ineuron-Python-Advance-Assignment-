{
  "nbformat": 4,
  "nbformat_minor": 0,
  "metadata": {
    "colab": {
      "name": "Ineuron_Python_Advance_Assignment22.ipynb",
      "provenance": []
    },
    "kernelspec": {
      "name": "python3",
      "display_name": "Python 3"
    },
    "language_info": {
      "name": "python"
    }
  },
  "cells": [
    {
      "cell_type": "markdown",
      "source": [
        "**Ineuron Python Advance Assignment 22**"
      ],
      "metadata": {
        "id": "Ob0FQQ7l4xYC"
      }
    },
    {
      "cell_type": "markdown",
      "source": [
        "Q1. What are the benefits of the built-in array package, if any?\n",
        "\n",
        "Answer: The Array is much more rigid. That is, the items that an array contains must be of the same type. Therefore, the size of the item will also be the same. We can check the size of each item.\n"
      ],
      "metadata": {
        "id": "ywL_puG34yhW"
      }
    },
    {
      "cell_type": "markdown",
      "source": [
        "Q2. What are some of the array package&#39;s limitations?\n",
        "\n",
        "Answer: An array which is formed will be homogeneous. \n",
        "\n",
        "While declaring an array, passing size of an array is compulsory, and the size must be a constant.\n",
        "\n",
        "Shifting is required for insertion or deletion of elements in an array"
      ],
      "metadata": {
        "id": "Mh7fNvdu4ydw"
      }
    },
    {
      "cell_type": "markdown",
      "source": [
        "\n",
        "Q3. Describe the main differences between the array and numpy packages.\n",
        "\n",
        "Answer: A numpy array is a grid of values, all of the same type, and is indexed by a tuple of nonnegative integers. A list is the Python equivalent of an array, but is resizeable and can contain elements of different types. The answer to above query the main difference in two is of performance."
      ],
      "metadata": {
        "id": "_UM5jIvf4ybW"
      }
    },
    {
      "cell_type": "markdown",
      "source": [
        "\n",
        "Q4. Explain the distinctions between the empty, ones, and zeros functions.\n",
        "\n",
        "Answer: The only difference between numpy.empty numpy.ones and numpy.zeros is that empty uses malloc and zeros uses calloc. Also zeros() and ones() are the NumPy library functions to create two different arrays. zeros() function is used to create an array based on the particular shape and type. All array elements are initialized to 0, which is created by the zeros() function. ones() function works like the zeros() function."
      ],
      "metadata": {
        "id": "THC0Wm5J4yYs"
      }
    },
    {
      "cell_type": "markdown",
      "source": [
        "\n",
        "Q5. In the fromfunction function, which is used to construct new arrays, what is the role of the callable\n",
        "argument?\n",
        "\n",
        "Answer: fromfunction() function construct an array by executing a function over each coordinate and the resulting array, therefore, has a value fn(x, y, z) at coordinate (x, y, z). Parameters : function : [callable] The function is called with N parameters, where N is the rank of shape.\n"
      ],
      "metadata": {
        "id": "B2sjYQ6M4yWL"
      }
    },
    {
      "cell_type": "markdown",
      "source": [
        "\n",
        "Q6. What happens when a numpy array is combined with a single-value operand (a scalar, such as\n",
        "an int or a floating-point value) through addition, as in the expression A + n?\n",
        "\n",
        "Answer: "
      ],
      "metadata": {
        "id": "hwQ1ve8I4yTN"
      }
    },
    {
      "cell_type": "code",
      "source": [
        "import numpy as np\n",
        "\n",
        "arr = np.array((1, 2, 3, 4, 5))\n",
        "\n",
        "print(arr + 1)"
      ],
      "metadata": {
        "colab": {
          "base_uri": "https://localhost:8080/"
        },
        "id": "iNCn6nw_9ATC",
        "outputId": "6088860d-a9a7-4177-9082-4eb776119bee"
      },
      "execution_count": 1,
      "outputs": [
        {
          "output_type": "stream",
          "name": "stdout",
          "text": [
            "[2 3 4 5 6]\n"
          ]
        }
      ]
    },
    {
      "cell_type": "markdown",
      "source": [
        "\n",
        "Q7. Can array-to-scalar operations use combined operation-assign operators (such as += or *=)?\n",
        "What is the outcome?\n",
        "\n",
        "Answer: NO"
      ],
      "metadata": {
        "id": "sVYgWCg54yPv"
      }
    },
    {
      "cell_type": "code",
      "source": [
        "#using scalar operations error came\n",
        "import numpy as np\n",
        "\n",
        "arr = np.array((1, 2, 3, 4, 5))\n",
        "a = arr += 1\n",
        "print(a)"
      ],
      "metadata": {
        "colab": {
          "base_uri": "https://localhost:8080/",
          "height": 130
        },
        "id": "Z5QhTX2D9Y0v",
        "outputId": "72918e68-151e-4a57-f39a-7042d6464d77"
      },
      "execution_count": 3,
      "outputs": [
        {
          "output_type": "error",
          "ename": "SyntaxError",
          "evalue": "ignored",
          "traceback": [
            "\u001b[0;36m  File \u001b[0;32m\"<ipython-input-3-ffef1e48090f>\"\u001b[0;36m, line \u001b[0;32m4\u001b[0m\n\u001b[0;31m    a = arr += 1\u001b[0m\n\u001b[0m             ^\u001b[0m\n\u001b[0;31mSyntaxError\u001b[0m\u001b[0;31m:\u001b[0m invalid syntax\n"
          ]
        }
      ]
    },
    {
      "cell_type": "markdown",
      "source": [
        "\n",
        "Q8. Does a numpy array contain fixed-length strings? What happens if you allocate a longer string to\n",
        "one of these arrays?\n",
        "\n",
        "Answer: NumPy arrays have a fixed size at creation, unlike Python lists (which can grow dynamically). Changing the size of an ndarray will create a new array and delete the original. The elements in a NumPy array are all required to be of the same data type, and thus will be the same size in memory. if longer strings is allocateed it might cause a computation problem basically increse the time complexity."
      ],
      "metadata": {
        "id": "x4oa9hjJ4yNh"
      }
    },
    {
      "cell_type": "markdown",
      "source": [
        "\n",
        "Q9. What happens when you combine two numpy arrays using an operation like addition (+) or\n",
        "multiplication (*)? What are the conditions for combining two numpy arrays?\n",
        "\n",
        "Answer: "
      ],
      "metadata": {
        "id": "KbrKV_8A4xDy"
      }
    },
    {
      "cell_type": "code",
      "source": [
        "import numpy as np\n",
        "\n",
        "arr1 = np.array([[1, 2], [3, 4]])\n",
        "\n",
        "arr2 = np.array([[5, 6], [7, 8]])\n",
        "\n",
        "arr = arr1+arr2\n",
        "arr1 = arr1*arr2\n",
        "\n",
        "print(arr)\n",
        "print(\"\\n\",arr1)"
      ],
      "metadata": {
        "colab": {
          "base_uri": "https://localhost:8080/"
        },
        "id": "BnvMEgjr-lbn",
        "outputId": "625a9034-ab48-4e79-f080-bb17b449dd8d"
      },
      "execution_count": 7,
      "outputs": [
        {
          "output_type": "stream",
          "name": "stdout",
          "text": [
            "[[ 6  8]\n",
            " [10 12]]\n",
            "\n",
            " [[ 5 12]\n",
            " [21 32]]\n"
          ]
        }
      ]
    },
    {
      "cell_type": "markdown",
      "source": [
        "NumPy's concatenate function can be used to concatenate two arrays either row-wise or column-wise. Concatenate function can take two or more arrays of the same shape and by default it concatenates row-wise i.e. axis=0. The resulting array after row-wise concatenation is of the shape 6 x 3, i.e. 6 rows and 3 columns."
      ],
      "metadata": {
        "id": "Bc84htlN--35"
      }
    },
    {
      "cell_type": "markdown",
      "source": [
        "\n",
        "Q10. What is the best way to use a Boolean array to mask another array?\n",
        "\n",
        "Answer: Boolean masking is typically the most efficient way to quantify a sub-collection in a collection. Masking in python and data science is when you want manipulated data in a collection based on some criteria. The criteria you use is typically of a true or false nature, hence the boolean part.\n",
        "\n",
        "Using masked_where() function: Pass the two array in the function as a parameter then use numpy. ma. masked_where() function in which pass the condition for masking and array to be masked. \n",
        "\n",
        "Using masked_where(), getmask() and masked_array() function: Pass the two array in the function as a parameter then use numpy. ma."
      ],
      "metadata": {
        "id": "yQIbbEaZ5BHC"
      }
    },
    {
      "cell_type": "markdown",
      "source": [
        "\n",
        "Q11. What are three different ways to get the standard deviation of a wide collection of data using\n",
        "both standard Python and its packages? Sort the three of them by how quickly they execute.\n",
        "\n",
        "Answer: one method is shown below standar then we can use pandas or using srpiting line by line to ding standard deviation.\n",
        "using pandas std() is generally nicer way and faster."
      ],
      "metadata": {
        "id": "pXuRUelj5A6c"
      }
    },
    {
      "cell_type": "code",
      "source": [
        "import math\n",
        "def variance(data, ddof=0):\n",
        "  n = len(data)\n",
        "  mean = sum(data) / n\n",
        "  return sum((x - mean) ** 2 for x in data) / (n - ddof)\n",
        "\n",
        "\n",
        "def stdev(data):\n",
        "  var = variance(data)\n",
        "  std_dev = math.sqrt(var)\n",
        "  return std_dev\n",
        "\n",
        "stdev([4, 8, 6, 5, 3, 2, 8, 9, 2, 5])\n"
      ],
      "metadata": {
        "colab": {
          "base_uri": "https://localhost:8080/"
        },
        "id": "QBCi0SJv_wAC",
        "outputId": "cf4d4ec5-9465-492a-eb9a-2c658c0859f1"
      },
      "execution_count": 11,
      "outputs": [
        {
          "output_type": "execute_result",
          "data": {
            "text/plain": [
              "2.4"
            ]
          },
          "metadata": {},
          "execution_count": 11
        }
      ]
    },
    {
      "cell_type": "markdown",
      "source": [
        "\n",
        "Q12. What is the dimensionality of a Boolean mask-generated array?\n",
        "Answer: it remain the same. Example below:"
      ],
      "metadata": {
        "id": "gcXgvulu5AyS"
      }
    },
    {
      "cell_type": "code",
      "source": [
        "import numpy as np\n",
        "\n",
        "arr = np.asarray([[[[1, 11], [2, 22], [3, 33]],\n",
        "                   [[4, 44], [5, 55], [6, 66]]],\n",
        "                  [[[7, 77], [8, 88], [9, 99]],\n",
        "                   [[0, 32], [1, 33], [2, 34]]]])\n",
        "\n",
        "masked_arr = np.ma.masked_less(arr, 3)\n",
        "\n",
        "print(masked_arr)"
      ],
      "metadata": {
        "colab": {
          "base_uri": "https://localhost:8080/"
        },
        "id": "r4MbFfAYBCuo",
        "outputId": "c2943233-7dfa-4644-e468-0d4567ab96bd"
      },
      "execution_count": 13,
      "outputs": [
        {
          "output_type": "stream",
          "name": "stdout",
          "text": [
            "[[[[-- 11]\n",
            "   [-- 22]\n",
            "   [3 33]]\n",
            "\n",
            "  [[4 44]\n",
            "   [5 55]\n",
            "   [6 66]]]\n",
            "\n",
            "\n",
            " [[[7 77]\n",
            "   [8 88]\n",
            "   [9 99]]\n",
            "\n",
            "  [[-- 32]\n",
            "   [-- 33]\n",
            "   [-- 34]]]]\n"
          ]
        }
      ]
    }
  ]
}