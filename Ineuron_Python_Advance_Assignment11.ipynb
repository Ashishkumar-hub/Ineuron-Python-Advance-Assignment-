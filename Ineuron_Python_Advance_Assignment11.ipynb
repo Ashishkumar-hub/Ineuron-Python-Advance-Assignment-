{
  "nbformat": 4,
  "nbformat_minor": 0,
  "metadata": {
    "colab": {
      "name": "Ineuron_Python_Advance_Assignment11.ipynb",
      "provenance": [],
      "collapsed_sections": []
    },
    "kernelspec": {
      "name": "python3",
      "display_name": "Python 3"
    },
    "language_info": {
      "name": "python"
    }
  },
  "cells": [
    {
      "cell_type": "markdown",
      "source": [
        "**Ineuron Python Advance Assignment 11**"
      ],
      "metadata": {
        "id": "OA_gQvyu19lm"
      }
    },
    {
      "cell_type": "markdown",
      "source": [
        "Q1. What is the concept of a metaclass?\n",
        "\n",
        "Answer: In object-oriented programming, a metaclass is a class whose instances are classes. Just as an ordinary class defines the behavior of certain objects, a metaclass defines the behavior of certain classes and their instances.\n",
        "\n",
        "A Class is also an object, and just like any other object, it’s an instance of something called Metaclass. A special class type creates these Class objects. The type class is default metaclass which is responsible for making classes."
      ],
      "metadata": {
        "id": "dwlIrULq19hM"
      }
    },
    {
      "cell_type": "code",
      "source": [
        "class Student:\n",
        "\tpass\n",
        "stu_obj = Student()\n",
        "# Print type of object of Student class\n",
        "print(\"Type of stu_obj is:\", type(stu_obj))\n",
        "# In the above example, if we try to find out the type of Student class, it comes out to be a type."
      ],
      "metadata": {
        "colab": {
          "base_uri": "https://localhost:8080/"
        },
        "id": "l9UbvNYu9sa5",
        "outputId": "d10b8eda-d43a-4fd3-ef6c-f2c59838a238"
      },
      "execution_count": 9,
      "outputs": [
        {
          "output_type": "stream",
          "name": "stdout",
          "text": [
            "Type of stu_obj is: <class '__main__.Student'>\n"
          ]
        }
      ]
    },
    {
      "cell_type": "markdown",
      "source": [
        "\n",
        "Q2. What is the best way to declare a class&#39;s metaclass?\n"
      ],
      "metadata": {
        "id": "6JPjWHuW19e1"
      }
    },
    {
      "cell_type": "code",
      "source": [
        "n = 5\n",
        "d = { 'x' : 1, 'y' : 2 }\n",
        "class Foo:\n",
        "     pass\n",
        "x = Foo()\n",
        "for obj in (n, d, x):\n",
        "  print(type(obj) is obj.__class__)"
      ],
      "metadata": {
        "colab": {
          "base_uri": "https://localhost:8080/"
        },
        "id": "NUz_QFPL2-Jl",
        "outputId": "aa9009db-a32f-4c02-c29f-61ceabe07af9"
      },
      "execution_count": 1,
      "outputs": [
        {
          "output_type": "stream",
          "name": "stdout",
          "text": [
            "True\n",
            "True\n",
            "True\n"
          ]
        }
      ]
    },
    {
      "cell_type": "markdown",
      "source": [
        "\n",
        "Q3. How do class decorators overlap with metaclasses for handling classes?\n",
        "\n",
        "Answer: Decorators are much, much simpler and more limited and therefore should be preferred whenever the desired effect can be achieved with either a metaclass or a class decorator.\n",
        "\n",
        "we can do anything with a class decorator, we can of course do with a custom metaclass (just apply the functionality of the \"decorator function\", i.e., the one that takes a class object and modifies it, in the course of the metaclass's __new__ or __init__ that make the class object.\n",
        "\n",
        "The same applies to all magic methods, i.e., to all kinds of operations as applied to the class object itself (as opposed to, ones applied to its instances, which use magic methods as defined in the class operations on the class object itself use magic methods as defined in the metaclass)."
      ],
      "metadata": {
        "id": "EQ1lukmN19cJ"
      }
    },
    {
      "cell_type": "code",
      "source": [
        "from functools import wraps\n",
        "\n",
        "def debug(func):\n",
        "\t'''decorator for debugging passed function'''\n",
        "\t\n",
        "\t@wraps(func)\n",
        "\tdef wrapper(*args, **kwargs):\n",
        "\t\tprint(\"Full name of this method:\", func.__qualname__)\n",
        "\t\treturn func(*args, **kwargs)\n",
        "\treturn wrapper\n",
        "\n",
        "def debugmethods(cls):\n",
        "\t'''class decorator make use of debug decorator to debug class methods '''\n",
        "\t# check in class dictionary for any callable(method) if exist, replace it with debugged version\n",
        "\tfor key, val in vars(cls).items():\n",
        "\t\tif callable(val):\n",
        "\t\t\tsetattr(cls, key, debug(val))\n",
        "\treturn cls\n",
        "# sample class\n",
        "@debugmethods\n",
        "class Calc:\n",
        "\tdef add(self, x, y):\n",
        "\t\treturn x+y\n",
        "\tdef mul(self, x, y):\n",
        "\t\treturn x*y\n",
        "\tdef div(self, x, y):\n",
        "\t\treturn x/y\n",
        "\t\n",
        "mycal = Calc()\n",
        "print(mycal.add(2, 3))\n",
        "print(mycal.mul(5, 2))\n",
        "print(mycal.div(5, 2))"
      ],
      "metadata": {
        "colab": {
          "base_uri": "https://localhost:8080/"
        },
        "id": "AFHCpNGF4e94",
        "outputId": "771f7aa9-79e7-4c0f-9b01-abd7ba018446"
      },
      "execution_count": 14,
      "outputs": [
        {
          "output_type": "stream",
          "name": "stdout",
          "text": [
            "Full name of this method: Calc.add\n",
            "5\n",
            "Full name of this method: Calc.mul\n",
            "10\n",
            "Full name of this method: Calc.div\n",
            "2.5\n"
          ]
        }
      ]
    },
    {
      "cell_type": "markdown",
      "source": [
        "\n",
        "Q4. How do class decorators overlap with metaclasses for handling instances?\n",
        "\n",
        "Answer: Decorators can be used to manage both instances and classes, and they intersect with metaclasses in the second of these roles.\n"
      ],
      "metadata": {
        "id": "76lD3Kud19aO"
      }
    },
    {
      "cell_type": "code",
      "source": [
        "import time\n",
        "import math\n",
        "# decorator to calculate duration taken by any function.\n",
        "def calculate_time(func):\t\n",
        "# added arguments inside the inner1, if function takes any arguments, can be added like this.\n",
        "\tdef inner1(*args, **kwargs):\n",
        "\t\t# storing time before function execution\n",
        "\t\tbegin = time.time()\n",
        "\t\tfunc(*args, **kwargs)\n",
        "\t\t# storing time after function execution\n",
        "\t\tend = time.time()\n",
        "\t\tprint(\"Total time taken in : \", func.__name__, end - begin)\n",
        "\treturn inner1\n",
        "# this can be added to any function present, in this case to calculate a factorial\n",
        "@calculate_time\n",
        "def factorial(num):\n",
        "\t# sleep 20 seconds because it takes very less time so that we can see the actual difference\n",
        "\ttime.sleep(20)\n",
        "\tprint(math.factorial(num))\n",
        "factorial(5)"
      ],
      "metadata": {
        "colab": {
          "base_uri": "https://localhost:8080/"
        },
        "id": "fFuHohqV8pcb",
        "outputId": "155a7232-a470-414d-9b67-2316415c52ae"
      },
      "execution_count": 13,
      "outputs": [
        {
          "output_type": "stream",
          "name": "stdout",
          "text": [
            "120\n",
            "Total time taken in :  factorial 20.01353645324707\n"
          ]
        }
      ]
    }
  ]
}