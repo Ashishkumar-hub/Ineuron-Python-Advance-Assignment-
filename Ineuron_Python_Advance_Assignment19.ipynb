{
  "nbformat": 4,
  "nbformat_minor": 0,
  "metadata": {
    "colab": {
      "name": "Ineuron_Python_Advance_Assignment19.ipynb",
      "provenance": []
    },
    "kernelspec": {
      "name": "python3",
      "display_name": "Python 3"
    },
    "language_info": {
      "name": "python"
    }
  },
  "cells": [
    {
      "cell_type": "markdown",
      "source": [
        "**Ineuron Python Advance Assignment 19**"
      ],
      "metadata": {
        "id": "F98mPJ_Eapx8"
      }
    },
    {
      "cell_type": "markdown",
      "source": [
        "Q1. Define the relationship between a class and its instances. Is it a one-to-one or a one-to-many\n",
        "partnership, for example?\n",
        "\n",
        "Answer: A class is a blueprint which you use to create objects. An object is an instance of a class - it's a concrete 'thing' that you made using a specific class. So, 'object' and 'instance' are the same thing, but the word 'instance' indicates the relationship of an object to its class. a single object of a class can access multille functions defiend in the class in form of ine to many relationships."
      ],
      "metadata": {
        "id": "bBMYvH0yapky"
      }
    },
    {
      "cell_type": "markdown",
      "source": [
        "\n",
        "Q2. What kind of data is held only in an instance?\n",
        "\n",
        "Answer: If the value of a variable varies from object to object, then such variables are called instance variables. For every object, a separate copy of the instance variable will be created. Instance variables are not shared by objects.\n"
      ],
      "metadata": {
        "id": "ZdlX-OAnaphD"
      }
    },
    {
      "cell_type": "markdown",
      "source": [
        "\n",
        "Q3. What kind of knowledge is stored in a class?\n",
        "\n",
        "Answer: A class is a user-defined blueprint or prototype from which objects are created. Classes provide a means of bundling data and functionality together. Creating a new class creates a new type of object, allowing new instances of that type to be made."
      ],
      "metadata": {
        "id": "o7SJVuoxapea"
      }
    },
    {
      "cell_type": "markdown",
      "source": [
        "\n",
        "Q4. What exactly is a method, and how is it different from a regular function?\n",
        "\n",
        "Answer: Methods are associated with the objects of the class they belong to. Functions are not associated with any object. Functions operate on the data we pass to them as arguments. Methods are dependent on the class they belong to."
      ],
      "metadata": {
        "id": "CsdREko4apc-"
      }
    },
    {
      "cell_type": "markdown",
      "source": [
        "\n",
        "Q5. Is inheritance supported in Python, and if so, what is the syntax?\n",
        "\n",
        "Answer: YES. "
      ],
      "metadata": {
        "id": "eq-O0e12apZO"
      }
    },
    {
      "cell_type": "code",
      "source": [
        "#single level inheritence\n",
        "class Ineuron:\n",
        "    company_website = 'https://ineuron.ai/'\n",
        "    name = 'iNeuron'\n",
        " \n",
        "    def contact_details(self):\n",
        "        print('Contact us at ', self.company_website)\n",
        " \n",
        " \n",
        "class Datascience(Ineuron):\n",
        "    def __init__(self):\n",
        "        self.year_of_establishment= 2018\n",
        " \n",
        "    def est_details(self):\n",
        "        print('{0} Company was established in {1}'\n",
        "              .format(self.name,self.year_of_establishment))\n",
        " \n",
        " \n",
        "ds = Datascience()\n",
        "ds.est_details()"
      ],
      "metadata": {
        "colab": {
          "base_uri": "https://localhost:8080/"
        },
        "id": "gFa-iFZBcHUA",
        "outputId": "89b1998c-1310-447b-8273-a83dcb240ae4"
      },
      "execution_count": 1,
      "outputs": [
        {
          "output_type": "stream",
          "name": "stdout",
          "text": [
            "iNeuron Company was established in 2018\n"
          ]
        }
      ]
    },
    {
      "cell_type": "markdown",
      "source": [
        "\n",
        "Q6. How much encapsulation (making instance or class variables private) does Python support?\n",
        "\n",
        "Answer: We can protect variables in the class by marking them private. To define a private variable we can add two underscores as a prefix at the start of a variable name. Private members are accessible only within the class, and we can't access them directly from the class objects."
      ],
      "metadata": {
        "id": "bstD5kEQa8dS"
      }
    },
    {
      "cell_type": "markdown",
      "source": [
        "\n",
        "Q7. How do you distinguish between a class variable and an instance variable?\n",
        "\n",
        "Answer: Class varibale: It usually maintains a single shared value for all instances of class even if no instance object of the class exists.\n",
        "\n",
        "Instance Variable:\n",
        "It usually reserves memory for data that the class needs."
      ],
      "metadata": {
        "id": "ygO9UMYCa8Zh"
      }
    },
    {
      "cell_type": "markdown",
      "source": [
        "\n",
        "Q8. When, if ever, can self be included in a class&#39;s method definitions?\n",
        "\n",
        "Answer: Self is always pointing to Current Object."
      ],
      "metadata": {
        "id": "SzpfFsK2a8XU"
      }
    },
    {
      "cell_type": "markdown",
      "source": [
        "\n",
        "Q9. What is the difference between the _ _add_ _ and the _ _radd_ _ methods?\n",
        "\n",
        "Answer: "
      ],
      "metadata": {
        "id": "yX5hs-TLa8Vd"
      }
    },
    {
      "cell_type": "code",
      "source": [
        "class Commuter1:\n",
        "    def __init__(self, val):\n",
        "        self.val = val\n",
        "    def __add__(self, other):\n",
        "        print('add', self.val, other)\n",
        "        return self.val + other\n",
        "\n",
        "\n",
        "    def __radd__(self, other):\n",
        "        print('radd', self.val, other)\n",
        "        return other + self.val\n",
        "\n",
        "\n",
        "x = Commuter1(88)\n",
        "y = Commuter1(99)\n",
        "\n",
        "print(x + y)"
      ],
      "metadata": {
        "colab": {
          "base_uri": "https://localhost:8080/"
        },
        "id": "H4-asdD4gFfu",
        "outputId": "2d86b42c-a92b-41f4-cc5a-5b0a3f34c86e"
      },
      "execution_count": 2,
      "outputs": [
        {
          "output_type": "stream",
          "name": "stdout",
          "text": [
            "add 88 <__main__.Commuter1 object at 0x7f28009338d0>\n",
            "radd 99 88\n",
            "187\n"
          ]
        }
      ]
    },
    {
      "cell_type": "markdown",
      "source": [
        "\n",
        "Q10. When is it necessary to use a reflection method? When do you not need it, even though you\n",
        "support the operation in question?\n",
        "\n",
        "Answer: Reflection refers to the ability for code to be able to examine attributes about objects that might be passed as parameters to a function. For example, if we write type(obj) then Python will return an object which represents the type of obj. we need it to reflect the behaviour of data being holded."
      ],
      "metadata": {
        "id": "IJrX4k2ra8T2"
      }
    },
    {
      "cell_type": "markdown",
      "source": [
        "\n",
        "Q11. What is the _ _iadd_ _ method called?\n",
        "\n",
        "Answer: So the main difference between __add__ and __iadd__ is that __iadd__ is actually storing that value its adding into the self.value."
      ],
      "metadata": {
        "id": "rhzwey5va8LZ"
      }
    },
    {
      "cell_type": "code",
      "source": [
        "class NumString:\n",
        "\n",
        "    def __init__(self, value):\n",
        "        self.value = str(value)\n",
        "\n",
        "    def __int__(self):\n",
        "        return int(self.value)\n",
        "\n",
        "    def __str__(self):\n",
        "        return self.value\n",
        "\n",
        "    def __add__(self, other):\n",
        "        return int(self) + other\n",
        "\n",
        "    def __iadd__(self, other):\n",
        "        self.value = self + other\n",
        "        return self.value\n",
        "\n",
        "some_num1 = NumString(0) # Create an instance of NumString with 0 as value.\n",
        "print(str(some_num1)) # Check what is contained within self.value in this instance.\n",
        "\n",
        "some_num1 + 1 # We add some_num1 to 1, this returns back the calculation using the __add__ method\n",
        "print(str(some_num1)) # check what some_num1 is holding for a self.value\n",
        "\n",
        "some_num1 += 2 # We in-place add some_num1 to 2, this stores and returns the new stored value using __iadd__ method.\n",
        "print(str(some_num1)) # check what some_num1 is holding now?\n"
      ],
      "metadata": {
        "colab": {
          "base_uri": "https://localhost:8080/"
        },
        "id": "rA6JMcX4gzAW",
        "outputId": "38107469-cc87-4a8f-9538-2c6ce067d1f3"
      },
      "execution_count": 5,
      "outputs": [
        {
          "output_type": "stream",
          "name": "stdout",
          "text": [
            "0\n",
            "0\n",
            "2\n"
          ]
        }
      ]
    },
    {
      "cell_type": "markdown",
      "source": [
        "\n",
        "Q12. Is the _ _init_ _ method inherited by subclasses? What do you do if you need to customize its\n",
        "behavior within a subclass?\n",
        "\n",
        "Answer: In Python, it is not compulsory that parent class constructor will always be called first. The order in which the __init__ method is called for a parent or a child class can be modified.\n",
        "\n",
        "A subclass can do more than that; it can define a method that has exactly the same method signature (name and argument types) as a method in its superclass. In that case, the method in the subclass overrides the method in the superclass and effectively replaces its implementation."
      ],
      "metadata": {
        "id": "nY-61Scma8Ia"
      }
    }
  ]
}