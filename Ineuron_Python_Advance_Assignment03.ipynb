{
  "nbformat": 4,
  "nbformat_minor": 0,
  "metadata": {
    "colab": {
      "name": "Ineuron_Python_Advance_Assignment3.ipynb",
      "provenance": []
    },
    "kernelspec": {
      "name": "python3",
      "display_name": "Python 3"
    },
    "language_info": {
      "name": "python"
    }
  },
  "cells": [
    {
      "cell_type": "markdown",
      "source": [
        "**Ineuron Python Advance Assignment 3**"
      ],
      "metadata": {
        "id": "XfLvanbVarIC"
      }
    },
    {
      "cell_type": "markdown",
      "source": [
        "1. What is the concept of an abstract superclass?\n",
        "\n",
        "Answer: Abstract Super Class. A common superclass for several subclasses. Factor up common behavior. Define the methods they all respond to. Methods that subclasses should implement are declared abstract."
      ],
      "metadata": {
        "id": "zVBr3LxkarEJ"
      }
    },
    {
      "cell_type": "code",
      "source": [
        "class test:\n",
        "    def __init__(self, a , b  , c ,d ) :\n",
        "        self.__a = a \n",
        "        self.b = b\n",
        "        self.c = c \n",
        "        self.d = d \n",
        "    def test_custome(self , v ) : \n",
        "         return v - self.__a \n",
        "    \n",
        "    def __str__(self):\n",
        "        return \"this is my test code for abstraction\""
      ],
      "metadata": {
        "id": "OR2lua2nbU7I"
      },
      "execution_count": 1,
      "outputs": []
    },
    {
      "cell_type": "code",
      "source": [
        "class test1(test):\n",
        "    def __init__(self, j , *args):\n",
        "        super(test1,self).__init__(*args) #\n",
        "        self.j = j \n",
        "\n",
        "m = test1(4,5,6,7,8)\n",
        "print(m.b)\n",
        "print(m.c)\n",
        "print(m.d)\n",
        "print(m.test_custome(8))\n",
        "print(m._test__a)"
      ],
      "metadata": {
        "colab": {
          "base_uri": "https://localhost:8080/"
        },
        "id": "ByeIusj_bo3q",
        "outputId": "a42bbb53-e5b0-4ce4-f326-f3d76d722e37"
      },
      "execution_count": 4,
      "outputs": [
        {
          "output_type": "stream",
          "name": "stdout",
          "text": [
            "6\n",
            "7\n",
            "8\n",
            "3\n",
            "5\n"
          ]
        }
      ]
    },
    {
      "cell_type": "markdown",
      "source": [
        "\n",
        "2. What happens when a class statement&#39;s top level contains a basic assignment statement?\n",
        "\n",
        "Answer: When a class statement's top level contains a basic assignment statement they are considered as class attributes and can be used by functions inside a class or can be called by reating a class object. "
      ],
      "metadata": {
        "id": "tVaen9FRarBy"
      }
    },
    {
      "cell_type": "code",
      "source": [
        "class Dog:\n",
        "     \n",
        "    # A simple class attribute\n",
        "    attr1 = \"mammal\"\n",
        "    attr2 = \"dog\"\n",
        " \n",
        "    # A sample method \n",
        "    def fun(self):\n",
        "        print(\"I'm a\", self.attr1)\n",
        "        print(\"I'm a\", self.attr2)\n",
        "\n",
        "Rodger = Dog() # Object instantiation\n",
        " \n",
        "print(Rodger.attr1) # Accessing class attributes and method through objects\n",
        "Rodger.fun()"
      ],
      "metadata": {
        "colab": {
          "base_uri": "https://localhost:8080/"
        },
        "id": "XNSWd0A8eJEY",
        "outputId": "8bbfc780-5295-4dc4-c190-4caf8c3ce953"
      },
      "execution_count": 6,
      "outputs": [
        {
          "output_type": "stream",
          "name": "stdout",
          "text": [
            "mammal\n",
            "I'm a mammal\n",
            "I'm a dog\n"
          ]
        }
      ]
    },
    {
      "cell_type": "markdown",
      "source": [
        "\n",
        "3. Why does a class need to manually call a superclass&#39;s __init__ method?\n",
        "\n",
        "Answer: It's because one needs to define something that is NOT done in the base class __init__ , and the only possibility to obtain that is to put its execution in a derived class __init__ function."
      ],
      "metadata": {
        "id": "C_7_I4eKaq_U"
      }
    },
    {
      "cell_type": "markdown",
      "source": [
        "\n",
        "4. How can you augment, instead of completely replacing, an inherited method?\n",
        "\n",
        "Answer: In python to override a method provided by an ancestor class, we have to decide if and when to call its original implementation. This gives the programmer the freedom to decide whether they need to just augment a method or to replace it completely. "
      ],
      "metadata": {
        "id": "lIceSM30aq9L"
      }
    },
    {
      "cell_type": "code",
      "source": [
        "class GraphicalEntity:\n",
        "    def __init__(self, pos_x, pos_y, size_x, size_y):\n",
        "        self.pos_x = pos_x\n",
        "        self.pos_y = pos_y\n",
        "        self.size_x = size_x\n",
        "        self.size_y = size_y\n",
        "\n",
        "    def move(self, pos_x, pos_y):\n",
        "        self.pos_x = pos_x\n",
        "        self.pos_y = pos_y\n",
        "\n",
        "    def resize(self, size_x, size_y):\n",
        "        self.size_x = size_x\n",
        "        self.size_y = size_y\n",
        "\n",
        "class Rectangle(GraphicalEntity):\n",
        "    pass\n",
        "\n",
        "class Square(GraphicalEntity):\n",
        "    def __init__(self, pos_x, pos_y, size):\n",
        "        super().__init__(pos_x, pos_y, size, size)\n",
        "\n",
        "    def resize(self, size):\n",
        "        super().resize(size, size)"
      ],
      "metadata": {
        "id": "hW6hD85Nf0Na"
      },
      "execution_count": 7,
      "outputs": []
    },
    {
      "cell_type": "code",
      "source": [
        "r1 = Rectangle(100, 200, 15, 30)\n",
        "r2 = Rectangle(150, 280, 23, 55)\n",
        "q1 = Square(300, 400, 50)"
      ],
      "metadata": {
        "id": "PQkSU9i7hcKh"
      },
      "execution_count": 8,
      "outputs": []
    },
    {
      "cell_type": "markdown",
      "source": [
        "\n",
        "5. How is the local scope of a class different from that of a function?\n",
        "\n",
        "Answer:  Local scope : Local scope is a kind of block scope which are only visible from their point of declaration to the end of the function or lambda body. \n",
        "\n",
        "Class scope : Names of class members have class scope, which extends throughout the class definition regardless of the point of declaration."
      ],
      "metadata": {
        "id": "z0bpQ6sSaq71"
      }
    }
  ]
}
