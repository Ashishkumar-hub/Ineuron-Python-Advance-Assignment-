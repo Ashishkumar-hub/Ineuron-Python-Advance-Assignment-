{
  "nbformat": 4,
  "nbformat_minor": 0,
  "metadata": {
    "colab": {
      "name": "Ineuron_Python_Advance_Assignment17.ipynb",
      "provenance": []
    },
    "kernelspec": {
      "name": "python3",
      "display_name": "Python 3"
    },
    "language_info": {
      "name": "python"
    }
  },
  "cells": [
    {
      "cell_type": "markdown",
      "source": [
        "**Ineuron Python Advance Assignment 17**"
      ],
      "metadata": {
        "id": "j6x5qNpsPHLA"
      }
    },
    {
      "cell_type": "markdown",
      "source": [
        "Q1. Explain the difference between greedy and non-greedy syntax with visual terms in as few words\n",
        "as possible. What is the bare minimum effort required to transform a greedy pattern into a non-greedy\n",
        "one? What characters or characters can you introduce or change?\n",
        "\n",
        "Answer: So the difference between the greedy and the non-greedy match is the following: The greedy match will try to match as many repetitions of the quantified pattern as possible. The non-greedy match will try to match as few repetitions of the quantified pattern as possible.\n",
        "\n",
        "the bare minimum effort required to transform a greedy pattern into a non-greedy\n",
        "one can be just implemented by using a singlle character. The ? operand makes match non-greedy. E.g. .* is greedy while .*? isn't. "
      ],
      "metadata": {
        "id": "4Sm8ZLJqPLmp"
      }
    },
    {
      "cell_type": "markdown",
      "source": [
        "\n",
        "Q2. When exactly does greedy versus non-greedy make a difference?  What if you&#39;re looking for a\n",
        "non-greedy match but the only one available is greedy?\n",
        "\n",
        "Answer: So the difference between the greedy and the non-greedy match is the following: The greedy match will try to match as many repetitions of the quantified pattern as possible. The non-greedy match will try to match as few repetitions of the quantified pattern as possible. \n",
        "\n",
        "example: To make the quantifier non-greedy you simply follow it with a '?' the first 3 characters and then the following 'ab' is matched. greedy by appending a '?' symbol to them: *?, +?, ??, {n,m}?, and {n,}?.\n",
        "\n",
        "if we're looking for a non-greedy match but the only one available is greedy that will result in matching the shortest possible string."
      ],
      "metadata": {
        "id": "GVBCEmDuPLaD"
      }
    },
    {
      "cell_type": "markdown",
      "source": [
        "\n",
        "Q3. In a simple match of a string, which looks only for one match and does not do any replacement, is\n",
        "the use of a nontagged group likely to make any practical difference?\n",
        "\n",
        "Answer: Yes it might do."
      ],
      "metadata": {
        "id": "R7C81SWZPLV9"
      }
    },
    {
      "cell_type": "markdown",
      "source": [
        "\n",
        "Q4. Describe a scenario in which using a nontagged category would have a significant impact on the\n",
        "program&#39;s outcomes.\n",
        "\n"
      ],
      "metadata": {
        "id": "pcxFJU6wPLTw"
      }
    },
    {
      "cell_type": "code",
      "source": [
        "import re\n",
        " \n",
        "# \\d is equivalent to [0-9].\n",
        "p = re.compile('\\d')\n",
        "print(p.findall(\"I went to him at 11 A.M. on 4th July 1886\"))\n",
        " \n",
        "# \\d+ will match a group on [0-9], group of one or greater size\n",
        "p = re.compile('\\d+')\n",
        "print(p.findall(\"I went to him at 11 A.M. on 4th July 1886\"))\n",
        "\n",
        "#a simple + operator can make a huge difference in outcome in case of regular expressions"
      ],
      "metadata": {
        "colab": {
          "base_uri": "https://localhost:8080/"
        },
        "id": "9d6lRgI_SCXJ",
        "outputId": "4ec46f23-8394-4dd2-f0ed-dd218a5b9ad4"
      },
      "execution_count": 1,
      "outputs": [
        {
          "output_type": "stream",
          "name": "stdout",
          "text": [
            "['1', '1', '4', '1', '8', '8', '6']\n",
            "['11', '4', '1886']\n"
          ]
        }
      ]
    },
    {
      "cell_type": "markdown",
      "source": [
        "Q5. Unlike a normal regex pattern, a look-ahead condition does not consume the characters it\n",
        "examines. Describe a situation in which this could make a difference in the results of your\n",
        "programme.\n",
        "\n",
        "Answer: While the order of lookaheads doesn't matter on a logical level, we should keep in mind that it may matter for matching speed. If one lookahead is more likely to fail than the other two, it makes little sense to place it in third position and expend a lot of energy checking the first two conditions. Make it first, so that if we're going to fail, we fail early—an application of the design to fail principle from the regex style guide."
      ],
      "metadata": {
        "id": "OZ6OSP5jPLR_"
      }
    },
    {
      "cell_type": "markdown",
      "source": [
        "Q6. In standard expressions, what is the difference between positive look-ahead and negative look-\n",
        "ahead?\n",
        "\n",
        "Answer: Positive lookahead: (?= «pattern») matches if pattern matches what comes after the current location in the input string. \n",
        "\n",
        "Negative lookahead: (?! «pattern») matches if pattern does not match what comes after the current location in the input string."
      ],
      "metadata": {
        "id": "wQNk4c_WPYv6"
      }
    },
    {
      "cell_type": "markdown",
      "source": [
        "\n",
        "Q7. What is the benefit of referring to groups by name rather than by number in a standard\n",
        "expression?\n",
        "\n",
        "Answer: The advantage to named groups is that it adds readability and understandability to the code, so that we can easily see what part of a regular expression match is being referenced."
      ],
      "metadata": {
        "id": "xSn5avLxPZiW"
      }
    },
    {
      "cell_type": "markdown",
      "source": [
        "\n",
        "Q8. Can you identify repeated items within a target string using named groups, as in &quot;The cow\n",
        "jumped over the moon&quot;?\n",
        "\n",
        "Answer: In this particular scenario it may be possible by checking it wu=ith the + tag in regex go check for one or more occurances."
      ],
      "metadata": {
        "id": "vvRx8TRDPZWI"
      }
    },
    {
      "cell_type": "markdown",
      "source": [
        "\n",
        "Q9. When parsing a string, what is at least one thing that the Scanner interface does for you that the\n",
        "re.findall feature does not?\n",
        "\n",
        "Answer: search() method is able to find a pattern from any position of the string. The re. It searches from start or end of the given string. If we use method findall to search for a pattern in a given string it will return all occurrences of the pattern."
      ],
      "metadata": {
        "id": "eUZNSikrPY14"
      }
    },
    {
      "cell_type": "markdown",
      "source": [
        "\n",
        "Q10. Does a scanner object have to be named scanner?\n",
        "\n",
        "Answer: The scan module is part of the microscopy package. It provides a framework for multidimensional scanning routines while acquiring data. Not madatory to keep the same name."
      ],
      "metadata": {
        "id": "p34bvCeePeA9"
      }
    }
  ]
}